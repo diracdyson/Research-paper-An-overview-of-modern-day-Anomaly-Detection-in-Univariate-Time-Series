{
  "cells": [
    {
      "cell_type": "code",
      "execution_count": 1,
      "metadata": {
        "colab": {
          "base_uri": "https://localhost:8080/"
        },
        "id": "NRZ5TH1LsBkG",
        "outputId": "494ced6e-0997-4b17-8e74-4bbe5650ad89"
      },
      "outputs": [
        {
          "output_type": "stream",
          "name": "stdout",
          "text": [
            "Looking in indexes: https://pypi.org/simple, https://us-python.pkg.dev/colab-wheels/public/simple/\n",
            "Collecting scikeras[tensorflow]\n",
            "  Downloading scikeras-0.10.0-py3-none-any.whl (27 kB)\n",
            "Requirement already satisfied: packaging>=0.21 in /usr/local/lib/python3.8/dist-packages (from scikeras[tensorflow]) (23.0)\n",
            "Requirement already satisfied: scikit-learn>=1.0.0 in /usr/local/lib/python3.8/dist-packages (from scikeras[tensorflow]) (1.0.2)\n",
            "Collecting tensorflow>=2.11.0\n",
            "  Downloading tensorflow-2.11.0-cp38-cp38-manylinux_2_17_x86_64.manylinux2014_x86_64.whl (588.3 MB)\n",
            "\u001b[2K     \u001b[90m━━━━━━━━━━━━━━━━━━━━━━━━━━━━━━━━━━━━━━━\u001b[0m \u001b[32m588.3/588.3 MB\u001b[0m \u001b[31m2.1 MB/s\u001b[0m eta \u001b[36m0:00:00\u001b[0m\n",
            "\u001b[?25hRequirement already satisfied: scipy>=1.1.0 in /usr/local/lib/python3.8/dist-packages (from scikit-learn>=1.0.0->scikeras[tensorflow]) (1.7.3)\n",
            "Requirement already satisfied: threadpoolctl>=2.0.0 in /usr/local/lib/python3.8/dist-packages (from scikit-learn>=1.0.0->scikeras[tensorflow]) (3.1.0)\n",
            "Requirement already satisfied: joblib>=0.11 in /usr/local/lib/python3.8/dist-packages (from scikit-learn>=1.0.0->scikeras[tensorflow]) (1.2.0)\n",
            "Requirement already satisfied: numpy>=1.14.6 in /usr/local/lib/python3.8/dist-packages (from scikit-learn>=1.0.0->scikeras[tensorflow]) (1.21.6)\n",
            "Requirement already satisfied: wrapt>=1.11.0 in /usr/local/lib/python3.8/dist-packages (from tensorflow>=2.11.0->scikeras[tensorflow]) (1.14.1)\n",
            "Requirement already satisfied: grpcio<2.0,>=1.24.3 in /usr/local/lib/python3.8/dist-packages (from tensorflow>=2.11.0->scikeras[tensorflow]) (1.51.1)\n",
            "Requirement already satisfied: astunparse>=1.6.0 in /usr/local/lib/python3.8/dist-packages (from tensorflow>=2.11.0->scikeras[tensorflow]) (1.6.3)\n",
            "Requirement already satisfied: typing-extensions>=3.6.6 in /usr/local/lib/python3.8/dist-packages (from tensorflow>=2.11.0->scikeras[tensorflow]) (4.4.0)\n",
            "Collecting flatbuffers>=2.0\n",
            "  Downloading flatbuffers-23.1.21-py2.py3-none-any.whl (26 kB)\n",
            "Requirement already satisfied: h5py>=2.9.0 in /usr/local/lib/python3.8/dist-packages (from tensorflow>=2.11.0->scikeras[tensorflow]) (3.1.0)\n",
            "Requirement already satisfied: termcolor>=1.1.0 in /usr/local/lib/python3.8/dist-packages (from tensorflow>=2.11.0->scikeras[tensorflow]) (2.2.0)\n",
            "Requirement already satisfied: protobuf<3.20,>=3.9.2 in /usr/local/lib/python3.8/dist-packages (from tensorflow>=2.11.0->scikeras[tensorflow]) (3.19.6)\n",
            "Requirement already satisfied: gast<=0.4.0,>=0.2.1 in /usr/local/lib/python3.8/dist-packages (from tensorflow>=2.11.0->scikeras[tensorflow]) (0.4.0)\n",
            "Requirement already satisfied: libclang>=13.0.0 in /usr/local/lib/python3.8/dist-packages (from tensorflow>=2.11.0->scikeras[tensorflow]) (15.0.6.1)\n",
            "Collecting tensorflow-estimator<2.12,>=2.11.0\n",
            "  Downloading tensorflow_estimator-2.11.0-py2.py3-none-any.whl (439 kB)\n",
            "\u001b[2K     \u001b[90m━━━━━━━━━━━━━━━━━━━━━━━━━━━━━━━━━━━━━━\u001b[0m \u001b[32m439.2/439.2 KB\u001b[0m \u001b[31m20.1 MB/s\u001b[0m eta \u001b[36m0:00:00\u001b[0m\n",
            "\u001b[?25hRequirement already satisfied: tensorflow-io-gcs-filesystem>=0.23.1 in /usr/local/lib/python3.8/dist-packages (from tensorflow>=2.11.0->scikeras[tensorflow]) (0.30.0)\n",
            "Requirement already satisfied: google-pasta>=0.1.1 in /usr/local/lib/python3.8/dist-packages (from tensorflow>=2.11.0->scikeras[tensorflow]) (0.2.0)\n",
            "Requirement already satisfied: opt-einsum>=2.3.2 in /usr/local/lib/python3.8/dist-packages (from tensorflow>=2.11.0->scikeras[tensorflow]) (3.3.0)\n",
            "Requirement already satisfied: absl-py>=1.0.0 in /usr/local/lib/python3.8/dist-packages (from tensorflow>=2.11.0->scikeras[tensorflow]) (1.4.0)\n",
            "Requirement already satisfied: six>=1.12.0 in /usr/local/lib/python3.8/dist-packages (from tensorflow>=2.11.0->scikeras[tensorflow]) (1.15.0)\n",
            "Collecting keras<2.12,>=2.11.0\n",
            "  Downloading keras-2.11.0-py2.py3-none-any.whl (1.7 MB)\n",
            "\u001b[2K     \u001b[90m━━━━━━━━━━━━━━━━━━━━━━━━━━━━━━━━━━━━━━━━\u001b[0m \u001b[32m1.7/1.7 MB\u001b[0m \u001b[31m41.4 MB/s\u001b[0m eta \u001b[36m0:00:00\u001b[0m\n",
            "\u001b[?25hCollecting tensorboard<2.12,>=2.11\n",
            "  Downloading tensorboard-2.11.2-py3-none-any.whl (6.0 MB)\n",
            "\u001b[2K     \u001b[90m━━━━━━━━━━━━━━━━━━━━━━━━━━━━━━━━━━━━━━━━\u001b[0m \u001b[32m6.0/6.0 MB\u001b[0m \u001b[31m47.6 MB/s\u001b[0m eta \u001b[36m0:00:00\u001b[0m\n",
            "\u001b[?25hRequirement already satisfied: setuptools in /usr/local/lib/python3.8/dist-packages (from tensorflow>=2.11.0->scikeras[tensorflow]) (57.4.0)\n",
            "Requirement already satisfied: wheel<1.0,>=0.23.0 in /usr/local/lib/python3.8/dist-packages (from astunparse>=1.6.0->tensorflow>=2.11.0->scikeras[tensorflow]) (0.38.4)\n",
            "Requirement already satisfied: google-auth<3,>=1.6.3 in /usr/local/lib/python3.8/dist-packages (from tensorboard<2.12,>=2.11->tensorflow>=2.11.0->scikeras[tensorflow]) (2.16.0)\n",
            "Requirement already satisfied: google-auth-oauthlib<0.5,>=0.4.1 in /usr/local/lib/python3.8/dist-packages (from tensorboard<2.12,>=2.11->tensorflow>=2.11.0->scikeras[tensorflow]) (0.4.6)\n",
            "Requirement already satisfied: tensorboard-data-server<0.7.0,>=0.6.0 in /usr/local/lib/python3.8/dist-packages (from tensorboard<2.12,>=2.11->tensorflow>=2.11.0->scikeras[tensorflow]) (0.6.1)\n",
            "Requirement already satisfied: werkzeug>=1.0.1 in /usr/local/lib/python3.8/dist-packages (from tensorboard<2.12,>=2.11->tensorflow>=2.11.0->scikeras[tensorflow]) (1.0.1)\n",
            "Requirement already satisfied: requests<3,>=2.21.0 in /usr/local/lib/python3.8/dist-packages (from tensorboard<2.12,>=2.11->tensorflow>=2.11.0->scikeras[tensorflow]) (2.25.1)\n",
            "Requirement already satisfied: markdown>=2.6.8 in /usr/local/lib/python3.8/dist-packages (from tensorboard<2.12,>=2.11->tensorflow>=2.11.0->scikeras[tensorflow]) (3.4.1)\n",
            "Requirement already satisfied: tensorboard-plugin-wit>=1.6.0 in /usr/local/lib/python3.8/dist-packages (from tensorboard<2.12,>=2.11->tensorflow>=2.11.0->scikeras[tensorflow]) (1.8.1)\n",
            "Requirement already satisfied: rsa<5,>=3.1.4 in /usr/local/lib/python3.8/dist-packages (from google-auth<3,>=1.6.3->tensorboard<2.12,>=2.11->tensorflow>=2.11.0->scikeras[tensorflow]) (4.9)\n",
            "Requirement already satisfied: pyasn1-modules>=0.2.1 in /usr/local/lib/python3.8/dist-packages (from google-auth<3,>=1.6.3->tensorboard<2.12,>=2.11->tensorflow>=2.11.0->scikeras[tensorflow]) (0.2.8)\n",
            "Requirement already satisfied: cachetools<6.0,>=2.0.0 in /usr/local/lib/python3.8/dist-packages (from google-auth<3,>=1.6.3->tensorboard<2.12,>=2.11->tensorflow>=2.11.0->scikeras[tensorflow]) (5.3.0)\n",
            "Requirement already satisfied: requests-oauthlib>=0.7.0 in /usr/local/lib/python3.8/dist-packages (from google-auth-oauthlib<0.5,>=0.4.1->tensorboard<2.12,>=2.11->tensorflow>=2.11.0->scikeras[tensorflow]) (1.3.1)\n",
            "Requirement already satisfied: importlib-metadata>=4.4 in /usr/local/lib/python3.8/dist-packages (from markdown>=2.6.8->tensorboard<2.12,>=2.11->tensorflow>=2.11.0->scikeras[tensorflow]) (6.0.0)\n",
            "Requirement already satisfied: chardet<5,>=3.0.2 in /usr/local/lib/python3.8/dist-packages (from requests<3,>=2.21.0->tensorboard<2.12,>=2.11->tensorflow>=2.11.0->scikeras[tensorflow]) (4.0.0)\n",
            "Requirement already satisfied: idna<3,>=2.5 in /usr/local/lib/python3.8/dist-packages (from requests<3,>=2.21.0->tensorboard<2.12,>=2.11->tensorflow>=2.11.0->scikeras[tensorflow]) (2.10)\n",
            "Requirement already satisfied: certifi>=2017.4.17 in /usr/local/lib/python3.8/dist-packages (from requests<3,>=2.21.0->tensorboard<2.12,>=2.11->tensorflow>=2.11.0->scikeras[tensorflow]) (2022.12.7)\n",
            "Requirement already satisfied: urllib3<1.27,>=1.21.1 in /usr/local/lib/python3.8/dist-packages (from requests<3,>=2.21.0->tensorboard<2.12,>=2.11->tensorflow>=2.11.0->scikeras[tensorflow]) (1.24.3)\n",
            "Requirement already satisfied: zipp>=0.5 in /usr/local/lib/python3.8/dist-packages (from importlib-metadata>=4.4->markdown>=2.6.8->tensorboard<2.12,>=2.11->tensorflow>=2.11.0->scikeras[tensorflow]) (3.12.0)\n",
            "Requirement already satisfied: pyasn1<0.5.0,>=0.4.6 in /usr/local/lib/python3.8/dist-packages (from pyasn1-modules>=0.2.1->google-auth<3,>=1.6.3->tensorboard<2.12,>=2.11->tensorflow>=2.11.0->scikeras[tensorflow]) (0.4.8)\n",
            "Requirement already satisfied: oauthlib>=3.0.0 in /usr/local/lib/python3.8/dist-packages (from requests-oauthlib>=0.7.0->google-auth-oauthlib<0.5,>=0.4.1->tensorboard<2.12,>=2.11->tensorflow>=2.11.0->scikeras[tensorflow]) (3.2.2)\n",
            "Installing collected packages: flatbuffers, tensorflow-estimator, keras, scikeras, tensorboard, tensorflow\n",
            "  Attempting uninstall: flatbuffers\n",
            "    Found existing installation: flatbuffers 1.12\n",
            "    Uninstalling flatbuffers-1.12:\n",
            "      Successfully uninstalled flatbuffers-1.12\n",
            "  Attempting uninstall: tensorflow-estimator\n",
            "    Found existing installation: tensorflow-estimator 2.9.0\n",
            "    Uninstalling tensorflow-estimator-2.9.0:\n",
            "      Successfully uninstalled tensorflow-estimator-2.9.0\n",
            "  Attempting uninstall: keras\n",
            "    Found existing installation: keras 2.9.0\n",
            "    Uninstalling keras-2.9.0:\n",
            "      Successfully uninstalled keras-2.9.0\n",
            "  Attempting uninstall: tensorboard\n",
            "    Found existing installation: tensorboard 2.9.1\n",
            "    Uninstalling tensorboard-2.9.1:\n",
            "      Successfully uninstalled tensorboard-2.9.1\n",
            "  Attempting uninstall: tensorflow\n",
            "    Found existing installation: tensorflow 2.9.2\n",
            "    Uninstalling tensorflow-2.9.2:\n",
            "      Successfully uninstalled tensorflow-2.9.2\n",
            "Successfully installed flatbuffers-23.1.21 keras-2.11.0 scikeras-0.10.0 tensorboard-2.11.2 tensorflow-2.11.0 tensorflow-estimator-2.11.0\n"
          ]
        }
      ],
      "source": [
        "!pip install scikeras[tensorflow]"
      ]
    },
    {
      "cell_type": "code",
      "execution_count": 2,
      "metadata": {
        "id": "Ea5BR59KsBkI"
      },
      "outputs": [],
      "source": [
        "import tensorflow as tf\n",
        "from tensorflow import keras \n",
        "import numpy as np\n",
        "import pandas as pd\n",
        "import time\n",
        "import seaborn as sns\n",
        "from sklearn.preprocessing import StandardScaler\n",
        "from sklearn.ensemble import AdaBoostRegressor\n",
        "from google.colab import drive"
      ]
    },
    {
      "cell_type": "code",
      "execution_count": 3,
      "metadata": {
        "id": "_ppCz_cVsBkJ"
      },
      "outputs": [],
      "source": [
        "from scikeras.wrappers import KerasClassifier, KerasRegressor"
      ]
    },
    {
      "cell_type": "code",
      "source": [
        "# still debugging this keras wrapper not sure what's going wrong "
      ],
      "metadata": {
        "id": "tpPAs9ziF-lA"
      },
      "execution_count": null,
      "outputs": []
    },
    {
      "cell_type": "code",
      "execution_count": 4,
      "metadata": {
        "id": "-Tglg_FMsBkK"
      },
      "outputs": [],
      "source": [
        "def amp():\n",
        "    model = keras.Sequential()\n",
        "    see= 0 \n",
        "    model.add(tf.keras.layers.InputLayer(input_shape=(1)) )\n",
        "    model.add(tf.keras.layers.Dense(6,kernel_initializer=tf.keras.initializers.RandomNormal(mean=0.0, stddev=0.05, seed=see),\n",
        "                                                 trainable=True))\n",
        "    model.add(tf.keras.layers.Dense(4,kernel_initializer=tf.keras.initializers.RandomNormal(mean=0.0, stddev=0.05, seed=see),\n",
        "                                                 trainable=True))\n",
        "    model.add(tf.keras.layers.Dense(2, kernel_initializer=tf.keras.initializers.RandomNormal(mean=0.0, stddev=0.05, seed=see),\n",
        "                                                 trainable=True))\n",
        "    model.add(tf.keras.layers.Dense(1, kernel_initializer=tf.keras.initializers.RandomNormal(mean=0.0, stddev=0.05, seed=see),\n",
        "                                                 trainable=True))\n",
        "    model.add(tf.keras.layers.Dense(2,kernel_initializer=tf.keras.initializers.RandomNormal(mean=0.0, stddev=0.05, seed=see),\n",
        "                                                 trainable=True))\n",
        "    model.add(tf.keras.layers.Dense(4,kernel_initializer=tf.keras.initializers.RandomNormal(mean=0.0, stddev=0.05, seed=see),\n",
        "                                                 trainable=True))\n",
        "    model.add(tf.keras.layers.Dense(6, kernel_initializer=tf.keras.initializers.RandomNormal(mean=0.0, stddev=0.05, seed=see),\n",
        "                                                 trainable=True))\n",
        "    model.compile(loss='mse',optimizer ='adam')\n",
        "    \n",
        "    return model "
      ]
    },
    {
      "cell_type": "code",
      "execution_count": 6,
      "metadata": {
        "colab": {
          "base_uri": "https://localhost:8080/"
        },
        "id": "lKNr0_nssBkK",
        "outputId": "a7e48d88-0a9b-4fcb-d5b3-fad27050bd5d"
      },
      "outputs": [
        {
          "output_type": "stream",
          "name": "stdout",
          "text": [
            "Drive already mounted at drive; to attempt to forcibly remount, call drive.mount(\"drive\", force_remount=True).\n"
          ]
        }
      ],
      "source": [
        "\n",
        "#h_s = StandardScaler().fit_transform(h.values.reshape( -1,1))\n",
        "#a= KerasRegressor(build_fn = amp(),epochs= 100,batch_size=20, verbose=0)\n",
        "# try and inhereti base class \n"
      ]
    },
    {
      "cell_type": "code",
      "source": [
        "#boost = AdaBoostRegressor(a)\n",
        "#h_s.shape= (0,195,1)\n",
        "#boost.fit(h,h)\n",
        "#pred = boost.predict(h)"
      ],
      "metadata": {
        "id": "Jtxgh8IMSFNw"
      },
      "execution_count": null,
      "outputs": []
    },
    {
      "cell_type": "code",
      "execution_count": 31,
      "metadata": {
        "id": "DyQDZVPvsBkL",
        "colab": {
          "base_uri": "https://localhost:8080/",
          "height": 1000
        },
        "outputId": "12aebe7a-8539-4118-d1ea-50cc4620653f"
      },
      "outputs": [
        {
          "output_type": "stream",
          "name": "stdout",
          "text": [
            "Epoch 1/50\n",
            "39/39 [==============================] - 1s 15ms/step - loss: 0.2435 - val_loss: 0.2435\n",
            "Epoch 2/50\n",
            "39/39 [==============================] - 0s 5ms/step - loss: 0.2434 - val_loss: 0.2434\n",
            "Epoch 3/50\n",
            "39/39 [==============================] - 0s 4ms/step - loss: 0.2434 - val_loss: 0.2433\n",
            "Epoch 4/50\n",
            "39/39 [==============================] - 0s 3ms/step - loss: 0.2433 - val_loss: 0.2433\n",
            "Epoch 5/50\n",
            "39/39 [==============================] - 0s 6ms/step - loss: 0.2432 - val_loss: 0.2432\n",
            "Epoch 6/50\n",
            "39/39 [==============================] - 0s 4ms/step - loss: 0.2431 - val_loss: 0.2431\n",
            "Epoch 7/50\n",
            "39/39 [==============================] - 0s 4ms/step - loss: 0.2431 - val_loss: 0.2430\n",
            "Epoch 8/50\n",
            "39/39 [==============================] - 0s 5ms/step - loss: 0.2430 - val_loss: 0.2430\n",
            "Epoch 9/50\n",
            "39/39 [==============================] - 0s 7ms/step - loss: 0.2429 - val_loss: 0.2429\n",
            "Epoch 10/50\n",
            "39/39 [==============================] - 0s 6ms/step - loss: 0.2428 - val_loss: 0.2428\n",
            "Epoch 11/50\n",
            "39/39 [==============================] - 0s 6ms/step - loss: 0.2427 - val_loss: 0.2427\n",
            "Epoch 12/50\n",
            "39/39 [==============================] - 0s 6ms/step - loss: 0.2427 - val_loss: 0.2426\n",
            "Epoch 13/50\n",
            "39/39 [==============================] - 0s 7ms/step - loss: 0.2426 - val_loss: 0.2425\n",
            "Epoch 14/50\n",
            "39/39 [==============================] - 0s 8ms/step - loss: 0.2425 - val_loss: 0.2424\n",
            "Epoch 15/50\n",
            "39/39 [==============================] - 0s 8ms/step - loss: 0.2424 - val_loss: 0.2423\n",
            "Epoch 16/50\n",
            "39/39 [==============================] - 0s 9ms/step - loss: 0.2423 - val_loss: 0.2422\n",
            "Epoch 17/50\n",
            "39/39 [==============================] - 0s 7ms/step - loss: 0.2422 - val_loss: 0.2421\n",
            "Epoch 18/50\n",
            "39/39 [==============================] - 0s 6ms/step - loss: 0.2421 - val_loss: 0.2420\n",
            "Epoch 19/50\n",
            "39/39 [==============================] - 0s 8ms/step - loss: 0.2420 - val_loss: 0.2419\n",
            "Epoch 20/50\n",
            "39/39 [==============================] - 0s 8ms/step - loss: 0.2419 - val_loss: 0.2418\n",
            "Epoch 21/50\n",
            "39/39 [==============================] - 0s 6ms/step - loss: 0.2418 - val_loss: 0.2417\n",
            "Epoch 22/50\n",
            "39/39 [==============================] - 0s 8ms/step - loss: 0.2417 - val_loss: 0.2416\n",
            "Epoch 23/50\n",
            "39/39 [==============================] - 0s 8ms/step - loss: 0.2415 - val_loss: 0.2415\n",
            "Epoch 24/50\n",
            "39/39 [==============================] - 0s 4ms/step - loss: 0.2414 - val_loss: 0.2414\n",
            "Epoch 25/50\n",
            "39/39 [==============================] - 0s 4ms/step - loss: 0.2413 - val_loss: 0.2413\n",
            "Epoch 26/50\n",
            "39/39 [==============================] - 0s 4ms/step - loss: 0.2412 - val_loss: 0.2411\n",
            "Epoch 27/50\n",
            "39/39 [==============================] - 0s 4ms/step - loss: 0.2411 - val_loss: 0.2410\n",
            "Epoch 28/50\n",
            "39/39 [==============================] - 0s 4ms/step - loss: 0.2410 - val_loss: 0.2409\n",
            "Epoch 29/50\n",
            "39/39 [==============================] - 0s 4ms/step - loss: 0.2408 - val_loss: 0.2408\n",
            "Epoch 30/50\n",
            "39/39 [==============================] - 0s 4ms/step - loss: 0.2407 - val_loss: 0.2407\n",
            "Epoch 31/50\n",
            "39/39 [==============================] - 0s 4ms/step - loss: 0.2406 - val_loss: 0.2405\n",
            "Epoch 32/50\n",
            "39/39 [==============================] - 0s 4ms/step - loss: 0.2405 - val_loss: 0.2404\n",
            "Epoch 33/50\n",
            "39/39 [==============================] - 0s 4ms/step - loss: 0.2403 - val_loss: 0.2403\n",
            "Epoch 34/50\n",
            "39/39 [==============================] - 0s 4ms/step - loss: 0.2402 - val_loss: 0.2401\n",
            "Epoch 35/50\n",
            "39/39 [==============================] - 0s 4ms/step - loss: 0.2401 - val_loss: 0.2400\n",
            "Epoch 36/50\n",
            "39/39 [==============================] - 0s 4ms/step - loss: 0.2399 - val_loss: 0.2399\n",
            "Epoch 37/50\n",
            "39/39 [==============================] - 0s 4ms/step - loss: 0.2398 - val_loss: 0.2397\n",
            "Epoch 38/50\n",
            "39/39 [==============================] - 0s 3ms/step - loss: 0.2397 - val_loss: 0.2396\n",
            "Epoch 39/50\n",
            "39/39 [==============================] - 0s 4ms/step - loss: 0.2395 - val_loss: 0.2395\n",
            "Epoch 40/50\n",
            "39/39 [==============================] - 0s 4ms/step - loss: 0.2394 - val_loss: 0.2393\n",
            "Epoch 41/50\n",
            "39/39 [==============================] - 0s 4ms/step - loss: 0.2393 - val_loss: 0.2392\n",
            "Epoch 42/50\n",
            "39/39 [==============================] - 0s 4ms/step - loss: 0.2391 - val_loss: 0.2390\n",
            "Epoch 43/50\n",
            "39/39 [==============================] - 0s 3ms/step - loss: 0.2390 - val_loss: 0.2389\n",
            "Epoch 44/50\n",
            "39/39 [==============================] - 0s 4ms/step - loss: 0.2388 - val_loss: 0.2388\n",
            "Epoch 45/50\n",
            "39/39 [==============================] - 0s 4ms/step - loss: 0.2387 - val_loss: 0.2386\n",
            "Epoch 46/50\n",
            "39/39 [==============================] - 0s 4ms/step - loss: 0.2385 - val_loss: 0.2385\n",
            "Epoch 47/50\n",
            "39/39 [==============================] - 0s 4ms/step - loss: 0.2384 - val_loss: 0.2383\n",
            "Epoch 48/50\n",
            "39/39 [==============================] - 0s 4ms/step - loss: 0.2383 - val_loss: 0.2382\n",
            "Epoch 49/50\n",
            "39/39 [==============================] - 0s 4ms/step - loss: 0.2381 - val_loss: 0.2380\n",
            "Epoch 50/50\n",
            "39/39 [==============================] - 0s 4ms/step - loss: 0.2380 - val_loss: 0.2379\n",
            "7/7 [==============================] - 0s 3ms/step\n",
            "7/7 [==============================] - 0s 3ms/step\n",
            "Epoch 1/50\n",
            "39/39 [==============================] - 1s 7ms/step - loss: 0.2379 - val_loss: 0.2379\n",
            "Epoch 2/50\n",
            "39/39 [==============================] - 0s 5ms/step - loss: 0.2379 - val_loss: 0.2378\n",
            "Epoch 3/50\n",
            "39/39 [==============================] - 0s 4ms/step - loss: 0.2378 - val_loss: 0.2378\n",
            "Epoch 4/50\n",
            "39/39 [==============================] - 0s 4ms/step - loss: 0.2378 - val_loss: 0.2378\n",
            "Epoch 5/50\n",
            "39/39 [==============================] - 0s 4ms/step - loss: 0.2378 - val_loss: 0.2378\n",
            "Epoch 6/50\n",
            "39/39 [==============================] - 0s 4ms/step - loss: 0.2378 - val_loss: 0.2378\n",
            "Epoch 7/50\n",
            "39/39 [==============================] - 0s 4ms/step - loss: 0.2378 - val_loss: 0.2378\n",
            "Epoch 8/50\n",
            "39/39 [==============================] - 0s 4ms/step - loss: 0.2377 - val_loss: 0.2377\n",
            "Epoch 9/50\n",
            "39/39 [==============================] - 0s 6ms/step - loss: 0.2377 - val_loss: 0.2377\n",
            "Epoch 10/50\n",
            "39/39 [==============================] - 0s 4ms/step - loss: 0.2377 - val_loss: 0.2377\n",
            "Epoch 11/50\n",
            "39/39 [==============================] - 0s 4ms/step - loss: 0.2377 - val_loss: 0.2377\n",
            "Epoch 12/50\n",
            "39/39 [==============================] - 0s 4ms/step - loss: 0.2377 - val_loss: 0.2377\n",
            "Epoch 13/50\n",
            "39/39 [==============================] - 0s 3ms/step - loss: 0.2376 - val_loss: 0.2376\n",
            "Epoch 14/50\n",
            "39/39 [==============================] - 0s 4ms/step - loss: 0.2376 - val_loss: 0.2376\n",
            "Epoch 15/50\n",
            "39/39 [==============================] - 0s 4ms/step - loss: 0.2376 - val_loss: 0.2376\n",
            "Epoch 16/50\n",
            "39/39 [==============================] - 0s 4ms/step - loss: 0.2376 - val_loss: 0.2376\n",
            "Epoch 17/50\n",
            "39/39 [==============================] - 0s 4ms/step - loss: 0.2376 - val_loss: 0.2375\n",
            "Epoch 18/50\n",
            "39/39 [==============================] - 0s 6ms/step - loss: 0.2375 - val_loss: 0.2375\n",
            "Epoch 19/50\n",
            "39/39 [==============================] - 0s 4ms/step - loss: 0.2375 - val_loss: 0.2375\n",
            "Epoch 20/50\n",
            "39/39 [==============================] - 0s 5ms/step - loss: 0.2375 - val_loss: 0.2375\n",
            "Epoch 21/50\n",
            "39/39 [==============================] - 0s 5ms/step - loss: 0.2375 - val_loss: 0.2374\n",
            "Epoch 22/50\n",
            "39/39 [==============================] - 0s 3ms/step - loss: 0.2374 - val_loss: 0.2374\n",
            "Epoch 23/50\n",
            "39/39 [==============================] - 0s 3ms/step - loss: 0.2374 - val_loss: 0.2374\n",
            "Epoch 24/50\n",
            "39/39 [==============================] - 0s 3ms/step - loss: 0.2374 - val_loss: 0.2374\n",
            "Epoch 25/50\n",
            "39/39 [==============================] - 0s 4ms/step - loss: 0.2374 - val_loss: 0.2373\n",
            "Epoch 26/50\n",
            "39/39 [==============================] - 0s 4ms/step - loss: 0.2373 - val_loss: 0.2373\n",
            "Epoch 27/50\n",
            "39/39 [==============================] - 0s 4ms/step - loss: 0.2373 - val_loss: 0.2373\n",
            "Epoch 28/50\n",
            "39/39 [==============================] - 0s 4ms/step - loss: 0.2373 - val_loss: 0.2373\n",
            "Epoch 29/50\n",
            "39/39 [==============================] - 0s 4ms/step - loss: 0.2372 - val_loss: 0.2372\n",
            "Epoch 30/50\n",
            "39/39 [==============================] - 0s 4ms/step - loss: 0.2372 - val_loss: 0.2372\n",
            "Epoch 31/50\n",
            "39/39 [==============================] - 0s 3ms/step - loss: 0.2372 - val_loss: 0.2372\n",
            "Epoch 32/50\n",
            "39/39 [==============================] - 0s 4ms/step - loss: 0.2372 - val_loss: 0.2371\n",
            "Epoch 33/50\n",
            "39/39 [==============================] - 0s 4ms/step - loss: 0.2371 - val_loss: 0.2371\n",
            "Epoch 34/50\n",
            "39/39 [==============================] - 0s 4ms/step - loss: 0.2371 - val_loss: 0.2371\n",
            "Epoch 35/50\n",
            "39/39 [==============================] - 0s 4ms/step - loss: 0.2371 - val_loss: 0.2371\n",
            "Epoch 36/50\n",
            "39/39 [==============================] - 0s 3ms/step - loss: 0.2370 - val_loss: 0.2370\n",
            "Epoch 37/50\n",
            "39/39 [==============================] - 0s 3ms/step - loss: 0.2370 - val_loss: 0.2370\n",
            "Epoch 38/50\n",
            "39/39 [==============================] - 0s 4ms/step - loss: 0.2370 - val_loss: 0.2370\n",
            "Epoch 39/50\n",
            "39/39 [==============================] - 0s 4ms/step - loss: 0.2370 - val_loss: 0.2369\n",
            "Epoch 40/50\n",
            "39/39 [==============================] - 0s 4ms/step - loss: 0.2369 - val_loss: 0.2369\n",
            "Epoch 41/50\n",
            "39/39 [==============================] - 0s 4ms/step - loss: 0.2369 - val_loss: 0.2369\n",
            "Epoch 42/50\n",
            "39/39 [==============================] - 0s 4ms/step - loss: 0.2369 - val_loss: 0.2368\n",
            "Epoch 43/50\n",
            "39/39 [==============================] - 0s 4ms/step - loss: 0.2368 - val_loss: 0.2368\n",
            "Epoch 44/50\n",
            "39/39 [==============================] - 0s 4ms/step - loss: 0.2368 - val_loss: 0.2368\n",
            "Epoch 45/50\n",
            "39/39 [==============================] - 0s 3ms/step - loss: 0.2368 - val_loss: 0.2368\n",
            "Epoch 46/50\n",
            "39/39 [==============================] - 0s 4ms/step - loss: 0.2367 - val_loss: 0.2367\n",
            "Epoch 47/50\n",
            "39/39 [==============================] - 0s 8ms/step - loss: 0.2367 - val_loss: 0.2367\n",
            "Epoch 48/50\n",
            "39/39 [==============================] - 0s 8ms/step - loss: 0.2367 - val_loss: 0.2367\n",
            "Epoch 49/50\n",
            "39/39 [==============================] - 0s 6ms/step - loss: 0.2366 - val_loss: 0.2366\n",
            "Epoch 50/50\n",
            "39/39 [==============================] - 0s 6ms/step - loss: 0.2366 - val_loss: 0.2366\n",
            "7/7 [==============================] - 0s 4ms/step\n",
            "Reconstruction error threshold:  0.5435072171763413\n"
          ]
        },
        {
          "output_type": "display_data",
          "data": {
            "text/plain": [
              "<Figure size 432x288 with 2 Axes>"
            ],
            "image/png": "[encoded data removed]"
          },
          "metadata": {
            "needs_background": "light"
          }
        }
      ],
      "source": [
        "import numpy as np\n",
        "import keras\n",
        "from keras.layers import Input, Dense\n",
        "from keras.models import Model\n",
        "import matplotlib.pyplot as plt\n",
        "drive.mount('drive')\n",
        "h=pd.read_csv('/content/drive/My Drive/Colab Notebooks/returnsant.csv')['Hedge Fund'].values.reshape(-1, 1)\n",
        "# Load the data\n",
        "#data = h\n",
        "\n",
        "# Define the encoding and decoding layers\n",
        "#encoding_dim = 32\n",
        "#batch_size =5 \n",
        "#input_layer = Input(shape=(h.shape[1],))\n",
        "#encoded = Dense(encoding_dim, activation='relu')(input_layer)\n",
        "#decoded = Dense(data.shape[1], activation='sigmoid')(encoded)\n",
        "\n",
        "# Build the autoencoder model\n",
        "#autoencoder = Model(input_layer, decoded)\n",
        "\n",
        "# Compile the model\n",
        "#autoencoder.compile(optimizer='adadelta', loss='mse')\n",
        "\n",
        "# Train the autoencoder\n",
        "#autoencoder.fit(data, data, epochs=50, batch_size=batch_size, shuffle=True, validation_data=(data, data))\n",
        "\n",
        "# Get the encoded and decoded representations\n",
        "#encoder = Model(input_layer, encoded)\n",
        "#encoded_data = encoder.predict(data)\n",
        "#decoded_data = autoencoder.predict(data)\n",
        "#input_layer2 = Input(shape=(encoding_dim,h.shape[1]))\n",
        "# Boost the autoencoder by retraining it on the encoded data\n",
        "#boosted_autoencoder = Model(encoder.output, decoded)\n",
        "#boosted_autoencoder.compile(optimizer='adadelta', loss='mse')\n",
        "#boosted_autoencoder.fit(encoded_data, data, epochs=50, batch_size=batch_size, shuffle=True, validation_data=(encoded_data, data))\n",
        "\n",
        "\n",
        "def boost(d,perc= 0.95):\n",
        "    data = d\n",
        "\n",
        "# Define the encoding and decoding layers\n",
        "    encoding_dim = 32\n",
        "    batch_size =5 \n",
        "    input_layer = Input(shape=(h.shape[1],))\n",
        "    encoded = Dense(encoding_dim, activation='relu')(input_layer)\n",
        "    decoded = Dense(data.shape[1], activation='sigmoid')(encoded)\n",
        "\n",
        "# Build the autoencoder model\n",
        "    autoencoder = Model(input_layer, decoded)\n",
        "\n",
        "# Compile the model\n",
        "    autoencoder.compile(optimizer='adadelta', loss='mse')\n",
        "\n",
        "# Train the autoencoder\n",
        "    autoencoder.fit(data, data, epochs=50, batch_size=batch_size, shuffle=True, validation_data=(data, data))\n",
        "\n",
        "# Get the encoded and decoded representations\n",
        "    encoder = Model(input_layer, encoded)\n",
        "    encoded_data = encoder.predict(data)\n",
        "    decoded_data = autoencoder.predict(data)\n",
        "#input_layer2 = Input(shape=(encoding_dim,h.shape[1]))\n",
        "# Boost the autoencoder by retraining it on the encoded data\n",
        "    boosted_autoencoder = Model(encoder.output, decoded)\n",
        "    boosted_autoencoder.compile(optimizer='adadelta', loss='mse')\n",
        "    boosted_autoencoder.fit(encoded_data, data, epochs=50, batch_size=batch_size, shuffle=True, validation_data=(encoded_data, data))\n",
        "    boosted_pred  = boosted_autoencoder.predict(encoded_data)\n",
        "    train_mae_loss = np.mean(np.abs(data - boosted_pred) , axis=1)\n",
        "    threshold = np.mean(train_mae_loss) + (np.std(train_mae_loss))*2\n",
        "    print(\"Reconstruction error threshold: \", threshold)\n",
        "    lsrt=np.where(train_mae_loss>threshold)\n",
        "    color = np.zeros( len( d))\n",
        "    color[lsrt]= 1\n",
        "    # consider anomaly detection \n",
        "    fig,axs= plt.subplots(2,1)\n",
        "    axs[0].hist(train_mae_loss, bins=50)\n",
        "    axs[0].set_xlabel(\"Train MAE loss\")\n",
        "    axs[0].set_ylabel(\"No of samples\")\n",
        "    \n",
        "\n",
        "    \n",
        "    axs[1].scatter(np.arange(1,196, 1),d,c= color)\n",
        "    axs[1].set_xlabel(\"Periods\")\n",
        "    axs[1].set_ylabel(\"Hedge Fund\")\n",
        "    plt.show() \n",
        "\n",
        "    \n",
        "\n",
        "# Get reconstruction loss threshold.\n",
        "    \n",
        "\n",
        "boost(h)"
      ]
    },
    {
      "cell_type": "code",
      "source": [
        "len(h )"
      ],
      "metadata": {
        "colab": {
          "base_uri": "https://localhost:8080/"
        },
        "id": "HAq7gVjq96tH",
        "outputId": "6cd3cf0b-7d84-4227-a02f-457013642569"
      },
      "execution_count": 25,
      "outputs": [
        {
          "output_type": "execute_result",
          "data": {
            "text/plain": [
              "195"
            ]
          },
          "metadata": {},
          "execution_count": 25
        }
      ]
    },
    {
      "cell_type": "code",
      "source": [
        "encoded_data.shape"
      ],
      "metadata": {
        "colab": {
          "base_uri": "https://localhost:8080/"
        },
        "id": "MZzqNNMTfQN-",
        "outputId": "4f3728b4-e99e-4a56-ccf4-994fd96060eb"
      },
      "execution_count": 17,
      "outputs": [
        {
          "output_type": "execute_result",
          "data": {
            "text/plain": [
              "(195, 32)"
            ]
          },
          "metadata": {},
          "execution_count": 17
        }
      ]
    },
    {
      "cell_type": "code",
      "source": [],
      "metadata": {
        "id": "p4TgqvArlCi_"
      },
      "execution_count": null,
      "outputs": []
    }
  ],
  "metadata": {
    "kernelspec": {
      "display_name": "Python 3",
      "language": "python",
      "name": "python3"
    },
    "language_info": {
      "codemirror_mode": {
        "name": "ipython",
        "version": 3
      },
      "file_extension": ".py",
      "mimetype": "text/x-python",
      "name": "python",
      "nbconvert_exporter": "python",
      "pygments_lexer": "ipython3",
      "version": "3.7.6"
    },
    "colab": {
      "provenance": []
    }
  },
  "nbformat": 4,
  "nbformat_minor": 0
}