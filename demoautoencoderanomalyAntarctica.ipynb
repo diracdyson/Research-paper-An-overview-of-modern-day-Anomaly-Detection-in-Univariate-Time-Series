{
  "nbformat": 4,
  "nbformat_minor": 0,
  "metadata": {
    "colab": {
      "provenance": []
    },
    "kernelspec": {
      "name": "python3",
      "display_name": "Python 3"
    },
    "language_info": {
      "name": "python"
    }
  },
  "cells": [
    {
      "cell_type": "code",
      "execution_count": null,
      "metadata": {
        "colab": {
          "base_uri": "https://localhost:8080/",
          "height": 69
        },
        "id": "wUO4uZM13B0V",
        "outputId": "f73693d1-3cf8-4606-f6b4-5c80f3f4def0"
      },
      "outputs": [
        {
          "output_type": "display_data",
          "data": {
            "text/plain": [
              "<IPython.core.display.HTML object>"
            ],
            "text/html": [
              "\n",
              "     <input type=\"file\" id=\"files-5c32dd50-e8c0-4e36-a153-2eb5481d49a7\" name=\"files[]\" multiple disabled\n",
              "        style=\"border:none\" />\n",
              "     <output id=\"result-5c32dd50-e8c0-4e36-a153-2eb5481d49a7\">\n",
              "      Upload widget is only available when the cell has been executed in the\n",
              "      current browser session. Please rerun this cell to enable.\n",
              "      </output>\n",
              "      <script>// Copyright 2017 Google LLC\n",
              "//\n",
              "// Licensed under the Apache License, Version 2.0 (the \"License\");\n",
              "// you may not use this file except in compliance with the License.\n",
              "// You may obtain a copy of the License at\n",
              "//\n",
              "//      http://www.apache.org/licenses/LICENSE-2.0\n",
              "//\n",
              "// Unless required by applicable law or agreed to in writing, software\n",
              "// distributed under the License is distributed on an \"AS IS\" BASIS,\n",
              "// WITHOUT WARRANTIES OR CONDITIONS OF ANY KIND, either express or implied.\n",
              "// See the License for the specific language governing permissions and\n",
              "// limitations under the License.\n",
              "\n",
              "/**\n",
              " * @fileoverview Helpers for google.colab Python module.\n",
              " */\n",
              "(function(scope) {\n",
              "function span(text, styleAttributes = {}) {\n",
              "  const element = document.createElement('span');\n",
              "  element.textContent = text;\n",
              "  for (const key of Object.keys(styleAttributes)) {\n",
              "    element.style[key] = styleAttributes[key];\n",
              "  }\n",
              "  return element;\n",
              "}\n",
              "\n",
              "// Max number of bytes which will be uploaded at a time.\n",
              "const MAX_PAYLOAD_SIZE = 100 * 1024;\n",
              "\n",
              "function _uploadFiles(inputId, outputId) {\n",
              "  const steps = uploadFilesStep(inputId, outputId);\n",
              "  const outputElement = document.getElementById(outputId);\n",
              "  // Cache steps on the outputElement to make it available for the next call\n",
              "  // to uploadFilesContinue from Python.\n",
              "  outputElement.steps = steps;\n",
              "\n",
              "  return _uploadFilesContinue(outputId);\n",
              "}\n",
              "\n",
              "// This is roughly an async generator (not supported in the browser yet),\n",
              "// where there are multiple asynchronous steps and the Python side is going\n",
              "// to poll for completion of each step.\n",
              "// This uses a Promise to block the python side on completion of each step,\n",
              "// then passes the result of the previous step as the input to the next step.\n",
              "function _uploadFilesContinue(outputId) {\n",
              "  const outputElement = document.getElementById(outputId);\n",
              "  const steps = outputElement.steps;\n",
              "\n",
              "  const next = steps.next(outputElement.lastPromiseValue);\n",
              "  return Promise.resolve(next.value.promise).then((value) => {\n",
              "    // Cache the last promise value to make it available to the next\n",
              "    // step of the generator.\n",
              "    outputElement.lastPromiseValue = value;\n",
              "    return next.value.response;\n",
              "  });\n",
              "}\n",
              "\n",
              "/**\n",
              " * Generator function which is called between each async step of the upload\n",
              " * process.\n",
              " * @param {string} inputId Element ID of the input file picker element.\n",
              " * @param {string} outputId Element ID of the output display.\n",
              " * @return {!Iterable<!Object>} Iterable of next steps.\n",
              " */\n",
              "function* uploadFilesStep(inputId, outputId) {\n",
              "  const inputElement = document.getElementById(inputId);\n",
              "  inputElement.disabled = false;\n",
              "\n",
              "  const outputElement = document.getElementById(outputId);\n",
              "  outputElement.innerHTML = '';\n",
              "\n",
              "  const pickedPromise = new Promise((resolve) => {\n",
              "    inputElement.addEventListener('change', (e) => {\n",
              "      resolve(e.target.files);\n",
              "    });\n",
              "  });\n",
              "\n",
              "  const cancel = document.createElement('button');\n",
              "  inputElement.parentElement.appendChild(cancel);\n",
              "  cancel.textContent = 'Cancel upload';\n",
              "  const cancelPromise = new Promise((resolve) => {\n",
              "    cancel.onclick = () => {\n",
              "      resolve(null);\n",
              "    };\n",
              "  });\n",
              "\n",
              "  // Wait for the user to pick the files.\n",
              "  const files = yield {\n",
              "    promise: Promise.race([pickedPromise, cancelPromise]),\n",
              "    response: {\n",
              "      action: 'starting',\n",
              "    }\n",
              "  };\n",
              "\n",
              "  cancel.remove();\n",
              "\n",
              "  // Disable the input element since further picks are not allowed.\n",
              "  inputElement.disabled = true;\n",
              "\n",
              "  if (!files) {\n",
              "    return {\n",
              "      response: {\n",
              "        action: 'complete',\n",
              "      }\n",
              "    };\n",
              "  }\n",
              "\n",
              "  for (const file of files) {\n",
              "    const li = document.createElement('li');\n",
              "    li.append(span(file.name, {fontWeight: 'bold'}));\n",
              "    li.append(span(\n",
              "        `(${file.type || 'n/a'}) - ${file.size} bytes, ` +\n",
              "        `last modified: ${\n",
              "            file.lastModifiedDate ? file.lastModifiedDate.toLocaleDateString() :\n",
              "                                    'n/a'} - `));\n",
              "    const percent = span('0% done');\n",
              "    li.appendChild(percent);\n",
              "\n",
              "    outputElement.appendChild(li);\n",
              "\n",
              "    const fileDataPromise = new Promise((resolve) => {\n",
              "      const reader = new FileReader();\n",
              "      reader.onload = (e) => {\n",
              "        resolve(e.target.result);\n",
              "      };\n",
              "      reader.readAsArrayBuffer(file);\n",
              "    });\n",
              "    // Wait for the data to be ready.\n",
              "    let fileData = yield {\n",
              "      promise: fileDataPromise,\n",
              "      response: {\n",
              "        action: 'continue',\n",
              "      }\n",
              "    };\n",
              "\n",
              "    // Use a chunked sending to avoid message size limits. See b/62115660.\n",
              "    let position = 0;\n",
              "    do {\n",
              "      const length = Math.min(fileData.byteLength - position, MAX_PAYLOAD_SIZE);\n",
              "      const chunk = new Uint8Array(fileData, position, length);\n",
              "      position += length;\n",
              "\n",
              "      const base64 = btoa(String.fromCharCode.apply(null, chunk));\n",
              "      yield {\n",
              "        response: {\n",
              "          action: 'append',\n",
              "          file: file.name,\n",
              "          data: base64,\n",
              "        },\n",
              "      };\n",
              "\n",
              "      let percentDone = fileData.byteLength === 0 ?\n",
              "          100 :\n",
              "          Math.round((position / fileData.byteLength) * 100);\n",
              "      percent.textContent = `${percentDone}% done`;\n",
              "\n",
              "    } while (position < fileData.byteLength);\n",
              "  }\n",
              "\n",
              "  // All done.\n",
              "  yield {\n",
              "    response: {\n",
              "      action: 'complete',\n",
              "    }\n",
              "  };\n",
              "}\n",
              "\n",
              "scope.google = scope.google || {};\n",
              "scope.google.colab = scope.google.colab || {};\n",
              "scope.google.colab._files = {\n",
              "  _uploadFiles,\n",
              "  _uploadFilesContinue,\n",
              "};\n",
              "})(self);\n",
              "</script> "
            ]
          },
          "metadata": {}
        },
        {
          "output_type": "stream",
          "name": "stdout",
          "text": [
            "Saving returnsant.csv to returnsant (1).csv\n"
          ]
        }
      ],
      "source": [
        "from google.colab import files\n",
        "uploaded=files.upload()"
      ]
    },
    {
      "cell_type": "code",
      "source": [
        "import io\n",
        "import pandas as pd\n",
        "import numpy as np\n",
        "#returnsant=pd.read_csv(io.BytesIO(uploaded['returnsant.csv']))"
      ],
      "metadata": {
        "id": "oWlffSvY3QGP"
      },
      "execution_count": null,
      "outputs": []
    },
    {
      "cell_type": "code",
      "source": [
        "from sklearn.preprocessing import StandardScaler"
      ],
      "metadata": {
        "id": "dzdTUn5cAV_N"
      },
      "execution_count": null,
      "outputs": []
    },
    {
      "cell_type": "code",
      "source": [
        "returnsant.describe()"
      ],
      "metadata": {
        "colab": {
          "base_uri": "https://localhost:8080/",
          "height": 416
        },
        "id": "pjUtx6FCojb-",
        "outputId": "e4b0efe5-fa20-4d43-eac4-59d16aa8ce36"
      },
      "execution_count": null,
      "outputs": [
        {
          "output_type": "execute_result",
          "data": {
            "text/plain": [
              "       Hedge Fund  Factor - Low Risk  Factor - Value vs Growth  \\\n",
              "count  195.000000         195.000000                195.000000   \n",
              "mean     0.008426           0.005162                150.222145   \n",
              "std      0.029623           0.028541               2569.592857   \n",
              "min     -0.096051          -0.128207             -12739.631010   \n",
              "25%     -0.009950          -0.011406                 -0.015540   \n",
              "50%      0.008800           0.004758                 -0.000972   \n",
              "75%      0.028000           0.023451                  0.011636   \n",
              "max      0.087900           0.076999              31963.201490   \n",
              "\n",
              "       Factor - Fixed Income Carry  Factor - Local Equity  \\\n",
              "count                   195.000000             195.000000   \n",
              "mean                      0.000084              -0.000999   \n",
              "std                       0.019464               0.021516   \n",
              "min                      -0.075152              -0.081331   \n",
              "25%                      -0.010146              -0.014698   \n",
              "50%                       0.001565              -0.000484   \n",
              "75%                       0.011342               0.012546   \n",
              "max                       0.065239               0.056810   \n",
              "\n",
              "       Factor - Trend Following  Factor - Commodities  Factor - Equity  \\\n",
              "count                195.000000            195.000000       195.000000   \n",
              "mean                   0.005613             -0.001761         0.006200   \n",
              "std                    0.026661              0.020470         0.040760   \n",
              "min                   -0.072346             -0.060501        -0.149934   \n",
              "25%                   -0.010551             -0.013445        -0.014444   \n",
              "50%                    0.003492             -0.001189         0.012433   \n",
              "75%                    0.020816              0.011129         0.028201   \n",
              "max                    0.102276              0.058252         0.115115   \n",
              "\n",
              "       Factor - Foreign Exchange Carry  Factor - Small Cap  \\\n",
              "count                       195.000000          195.000000   \n",
              "mean                         -0.000083           -0.002021   \n",
              "std                           0.020065            0.018025   \n",
              "min                          -0.063892           -0.090379   \n",
              "25%                          -0.010376           -0.011469   \n",
              "50%                           0.001187           -0.001049   \n",
              "75%                           0.013087            0.009227   \n",
              "max                           0.071994            0.069783   \n",
              "\n",
              "       Factor - Emerging Markets  Factor - Foreign Currency  \\\n",
              "count                 195.000000                 195.000000   \n",
              "mean                   -0.002571                   0.001120   \n",
              "std                     0.020904                   0.018551   \n",
              "min                    -0.125790                  -0.038892   \n",
              "25%                    -0.013991                  -0.010622   \n",
              "50%                    -0.000205                   0.000475   \n",
              "75%                     0.010226                   0.011589   \n",
              "max                     0.037207                   0.067272   \n",
              "\n",
              "       Factor - Local Inflation  Factor - Equity Short Volatility  \\\n",
              "count                195.000000                        195.000000   \n",
              "mean                   0.002171                          0.001245   \n",
              "std                    0.022432                          0.018643   \n",
              "min                   -0.085123                         -0.052001   \n",
              "25%                   -0.008966                         -0.009227   \n",
              "50%                    0.000509                          0.004018   \n",
              "75%                    0.012679                          0.012631   \n",
              "max                    0.081401                          0.040368   \n",
              "\n",
              "       Factor - Credit  Factor - Interest Rates  Factor - Crowding  \\\n",
              "count       195.000000               195.000000         195.000000   \n",
              "mean          0.000228               165.289979           0.002219   \n",
              "std           0.027555              1725.936406           0.009019   \n",
              "min          -0.170308                -0.028068          -0.052240   \n",
              "25%          -0.009373                -0.003997          -0.000932   \n",
              "50%           0.003766                 0.002805           0.001267   \n",
              "75%           0.017425                 0.009257           0.007310   \n",
              "max           0.057066             23213.711040           0.028112   \n",
              "\n",
              "       Factor - Momentum  Factor - Quality  \n",
              "count         195.000000        195.000000  \n",
              "mean            0.005333          0.006526  \n",
              "std             0.032067          0.015723  \n",
              "min            -0.127459         -0.040496  \n",
              "25%            -0.011822         -0.001276  \n",
              "50%             0.007850          0.007147  \n",
              "75%             0.024615          0.014936  \n",
              "max             0.124979          0.084840  "
            ],
            "text/html": [
              "\n",
              "  <div id=\"df-8c632f4e-09ed-4e72-b653-9632902d5232\">\n",
              "    <div class=\"colab-df-container\">\n",
              "      <div>\n",
              "<style scoped>\n",
              "    .dataframe tbody tr th:only-of-type {\n",
              "        vertical-align: middle;\n",
              "    }\n",
              "\n",
              "    .dataframe tbody tr th {\n",
              "        vertical-align: top;\n",
              "    }\n",
              "\n",
              "    .dataframe thead th {\n",
              "        text-align: right;\n",
              "    }\n",
              "</style>\n",
              "<table border=\"1\" class=\"dataframe\">\n",
              "  <thead>\n",
              "    <tr style=\"text-align: right;\">\n",
              "      <th></th>\n",
              "      <th>Hedge Fund</th>\n",
              "      <th>Factor - Low Risk</th>\n",
              "      <th>Factor - Value vs Growth</th>\n",
              "      <th>Factor - Fixed Income Carry</th>\n",
              "      <th>Factor - Local Equity</th>\n",
              "      <th>Factor - Trend Following</th>\n",
              "      <th>Factor - Commodities</th>\n",
              "      <th>Factor - Equity</th>\n",
              "      <th>Factor - Foreign Exchange Carry</th>\n",
              "      <th>Factor - Small Cap</th>\n",
              "      <th>Factor - Emerging Markets</th>\n",
              "      <th>Factor - Foreign Currency</th>\n",
              "      <th>Factor - Local Inflation</th>\n",
              "      <th>Factor - Equity Short Volatility</th>\n",
              "      <th>Factor - Credit</th>\n",
              "      <th>Factor - Interest Rates</th>\n",
              "      <th>Factor - Crowding</th>\n",
              "      <th>Factor - Momentum</th>\n",
              "      <th>Factor - Quality</th>\n",
              "    </tr>\n",
              "  </thead>\n",
              "  <tbody>\n",
              "    <tr>\n",
              "      <th>count</th>\n",
              "      <td>195.000000</td>\n",
              "      <td>195.000000</td>\n",
              "      <td>195.000000</td>\n",
              "      <td>195.000000</td>\n",
              "      <td>195.000000</td>\n",
              "      <td>195.000000</td>\n",
              "      <td>195.000000</td>\n",
              "      <td>195.000000</td>\n",
              "      <td>195.000000</td>\n",
              "      <td>195.000000</td>\n",
              "      <td>195.000000</td>\n",
              "      <td>195.000000</td>\n",
              "      <td>195.000000</td>\n",
              "      <td>195.000000</td>\n",
              "      <td>195.000000</td>\n",
              "      <td>195.000000</td>\n",
              "      <td>195.000000</td>\n",
              "      <td>195.000000</td>\n",
              "      <td>195.000000</td>\n",
              "    </tr>\n",
              "    <tr>\n",
              "      <th>mean</th>\n",
              "      <td>0.008426</td>\n",
              "      <td>0.005162</td>\n",
              "      <td>150.222145</td>\n",
              "      <td>0.000084</td>\n",
              "      <td>-0.000999</td>\n",
              "      <td>0.005613</td>\n",
              "      <td>-0.001761</td>\n",
              "      <td>0.006200</td>\n",
              "      <td>-0.000083</td>\n",
              "      <td>-0.002021</td>\n",
              "      <td>-0.002571</td>\n",
              "      <td>0.001120</td>\n",
              "      <td>0.002171</td>\n",
              "      <td>0.001245</td>\n",
              "      <td>0.000228</td>\n",
              "      <td>165.289979</td>\n",
              "      <td>0.002219</td>\n",
              "      <td>0.005333</td>\n",
              "      <td>0.006526</td>\n",
              "    </tr>\n",
              "    <tr>\n",
              "      <th>std</th>\n",
              "      <td>0.029623</td>\n",
              "      <td>0.028541</td>\n",
              "      <td>2569.592857</td>\n",
              "      <td>0.019464</td>\n",
              "      <td>0.021516</td>\n",
              "      <td>0.026661</td>\n",
              "      <td>0.020470</td>\n",
              "      <td>0.040760</td>\n",
              "      <td>0.020065</td>\n",
              "      <td>0.018025</td>\n",
              "      <td>0.020904</td>\n",
              "      <td>0.018551</td>\n",
              "      <td>0.022432</td>\n",
              "      <td>0.018643</td>\n",
              "      <td>0.027555</td>\n",
              "      <td>1725.936406</td>\n",
              "      <td>0.009019</td>\n",
              "      <td>0.032067</td>\n",
              "      <td>0.015723</td>\n",
              "    </tr>\n",
              "    <tr>\n",
              "      <th>min</th>\n",
              "      <td>-0.096051</td>\n",
              "      <td>-0.128207</td>\n",
              "      <td>-12739.631010</td>\n",
              "      <td>-0.075152</td>\n",
              "      <td>-0.081331</td>\n",
              "      <td>-0.072346</td>\n",
              "      <td>-0.060501</td>\n",
              "      <td>-0.149934</td>\n",
              "      <td>-0.063892</td>\n",
              "      <td>-0.090379</td>\n",
              "      <td>-0.125790</td>\n",
              "      <td>-0.038892</td>\n",
              "      <td>-0.085123</td>\n",
              "      <td>-0.052001</td>\n",
              "      <td>-0.170308</td>\n",
              "      <td>-0.028068</td>\n",
              "      <td>-0.052240</td>\n",
              "      <td>-0.127459</td>\n",
              "      <td>-0.040496</td>\n",
              "    </tr>\n",
              "    <tr>\n",
              "      <th>25%</th>\n",
              "      <td>-0.009950</td>\n",
              "      <td>-0.011406</td>\n",
              "      <td>-0.015540</td>\n",
              "      <td>-0.010146</td>\n",
              "      <td>-0.014698</td>\n",
              "      <td>-0.010551</td>\n",
              "      <td>-0.013445</td>\n",
              "      <td>-0.014444</td>\n",
              "      <td>-0.010376</td>\n",
              "      <td>-0.011469</td>\n",
              "      <td>-0.013991</td>\n",
              "      <td>-0.010622</td>\n",
              "      <td>-0.008966</td>\n",
              "      <td>-0.009227</td>\n",
              "      <td>-0.009373</td>\n",
              "      <td>-0.003997</td>\n",
              "      <td>-0.000932</td>\n",
              "      <td>-0.011822</td>\n",
              "      <td>-0.001276</td>\n",
              "    </tr>\n",
              "    <tr>\n",
              "      <th>50%</th>\n",
              "      <td>0.008800</td>\n",
              "      <td>0.004758</td>\n",
              "      <td>-0.000972</td>\n",
              "      <td>0.001565</td>\n",
              "      <td>-0.000484</td>\n",
              "      <td>0.003492</td>\n",
              "      <td>-0.001189</td>\n",
              "      <td>0.012433</td>\n",
              "      <td>0.001187</td>\n",
              "      <td>-0.001049</td>\n",
              "      <td>-0.000205</td>\n",
              "      <td>0.000475</td>\n",
              "      <td>0.000509</td>\n",
              "      <td>0.004018</td>\n",
              "      <td>0.003766</td>\n",
              "      <td>0.002805</td>\n",
              "      <td>0.001267</td>\n",
              "      <td>0.007850</td>\n",
              "      <td>0.007147</td>\n",
              "    </tr>\n",
              "    <tr>\n",
              "      <th>75%</th>\n",
              "      <td>0.028000</td>\n",
              "      <td>0.023451</td>\n",
              "      <td>0.011636</td>\n",
              "      <td>0.011342</td>\n",
              "      <td>0.012546</td>\n",
              "      <td>0.020816</td>\n",
              "      <td>0.011129</td>\n",
              "      <td>0.028201</td>\n",
              "      <td>0.013087</td>\n",
              "      <td>0.009227</td>\n",
              "      <td>0.010226</td>\n",
              "      <td>0.011589</td>\n",
              "      <td>0.012679</td>\n",
              "      <td>0.012631</td>\n",
              "      <td>0.017425</td>\n",
              "      <td>0.009257</td>\n",
              "      <td>0.007310</td>\n",
              "      <td>0.024615</td>\n",
              "      <td>0.014936</td>\n",
              "    </tr>\n",
              "    <tr>\n",
              "      <th>max</th>\n",
              "      <td>0.087900</td>\n",
              "      <td>0.076999</td>\n",
              "      <td>31963.201490</td>\n",
              "      <td>0.065239</td>\n",
              "      <td>0.056810</td>\n",
              "      <td>0.102276</td>\n",
              "      <td>0.058252</td>\n",
              "      <td>0.115115</td>\n",
              "      <td>0.071994</td>\n",
              "      <td>0.069783</td>\n",
              "      <td>0.037207</td>\n",
              "      <td>0.067272</td>\n",
              "      <td>0.081401</td>\n",
              "      <td>0.040368</td>\n",
              "      <td>0.057066</td>\n",
              "      <td>23213.711040</td>\n",
              "      <td>0.028112</td>\n",
              "      <td>0.124979</td>\n",
              "      <td>0.084840</td>\n",
              "    </tr>\n",
              "  </tbody>\n",
              "</table>\n",
              "</div>\n",
              "      <button class=\"colab-df-convert\" onclick=\"convertToInteractive('df-8c632f4e-09ed-4e72-b653-9632902d5232')\"\n",
              "              title=\"Convert this dataframe to an interactive table.\"\n",
              "              style=\"display:none;\">\n",
              "        \n",
              "  <svg xmlns=\"http://www.w3.org/2000/svg\" height=\"24px\"viewBox=\"0 0 24 24\"\n",
              "       width=\"24px\">\n",
              "    <path d=\"M0 0h24v24H0V0z\" fill=\"none\"/>\n",
              "    <path d=\"M18.56 5.44l.94 2.06.94-2.06 2.06-.94-2.06-.94-.94-2.06-.94 2.06-2.06.94zm-11 1L8.5 8.5l.94-2.06 2.06-.94-2.06-.94L8.5 2.5l-.94 2.06-2.06.94zm10 10l.94 2.06.94-2.06 2.06-.94-2.06-.94-.94-2.06-.94 2.06-2.06.94z\"/><path d=\"M17.41 7.96l-1.37-1.37c-.4-.4-.92-.59-1.43-.59-.52 0-1.04.2-1.43.59L10.3 9.45l-7.72 7.72c-.78.78-.78 2.05 0 2.83L4 21.41c.39.39.9.59 1.41.59.51 0 1.02-.2 1.41-.59l7.78-7.78 2.81-2.81c.8-.78.8-2.07 0-2.86zM5.41 20L4 18.59l7.72-7.72 1.47 1.35L5.41 20z\"/>\n",
              "  </svg>\n",
              "      </button>\n",
              "      \n",
              "  <style>\n",
              "    .colab-df-container {\n",
              "      display:flex;\n",
              "      flex-wrap:wrap;\n",
              "      gap: 12px;\n",
              "    }\n",
              "\n",
              "    .colab-df-convert {\n",
              "      background-color: #E8F0FE;\n",
              "      border: none;\n",
              "      border-radius: 50%;\n",
              "      cursor: pointer;\n",
              "      display: none;\n",
              "      fill: #1967D2;\n",
              "      height: 32px;\n",
              "      padding: 0 0 0 0;\n",
              "      width: 32px;\n",
              "    }\n",
              "\n",
              "    .colab-df-convert:hover {\n",
              "      background-color: #E2EBFA;\n",
              "      box-shadow: 0px 1px 2px rgba(60, 64, 67, 0.3), 0px 1px 3px 1px rgba(60, 64, 67, 0.15);\n",
              "      fill: #174EA6;\n",
              "    }\n",
              "\n",
              "    [theme=dark] .colab-df-convert {\n",
              "      background-color: #3B4455;\n",
              "      fill: #D2E3FC;\n",
              "    }\n",
              "\n",
              "    [theme=dark] .colab-df-convert:hover {\n",
              "      background-color: #434B5C;\n",
              "      box-shadow: 0px 1px 3px 1px rgba(0, 0, 0, 0.15);\n",
              "      filter: drop-shadow(0px 1px 2px rgba(0, 0, 0, 0.3));\n",
              "      fill: #FFFFFF;\n",
              "    }\n",
              "  </style>\n",
              "\n",
              "      <script>\n",
              "        const buttonEl =\n",
              "          document.querySelector('#df-8c632f4e-09ed-4e72-b653-9632902d5232 button.colab-df-convert');\n",
              "        buttonEl.style.display =\n",
              "          google.colab.kernel.accessAllowed ? 'block' : 'none';\n",
              "\n",
              "        async function convertToInteractive(key) {\n",
              "          const element = document.querySelector('#df-8c632f4e-09ed-4e72-b653-9632902d5232');\n",
              "          const dataTable =\n",
              "            await google.colab.kernel.invokeFunction('convertToInteractive',\n",
              "                                                     [key], {});\n",
              "          if (!dataTable) return;\n",
              "\n",
              "          const docLinkHtml = 'Like what you see? Visit the ' +\n",
              "            '<a target=\"_blank\" href=https://colab.research.google.com/notebooks/data_table.ipynb>data table notebook</a>'\n",
              "            + ' to learn more about interactive tables.';\n",
              "          element.innerHTML = '';\n",
              "          dataTable['output_type'] = 'display_data';\n",
              "          await google.colab.output.renderOutput(dataTable, element);\n",
              "          const docLink = document.createElement('div');\n",
              "          docLink.innerHTML = docLinkHtml;\n",
              "          element.appendChild(docLink);\n",
              "        }\n",
              "      </script>\n",
              "    </div>\n",
              "  </div>\n",
              "  "
            ]
          },
          "metadata": {},
          "execution_count": 4
        }
      ]
    },
    {
      "cell_type": "code",
      "source": [
        "def create_window(values,time_steps=4):\n",
        "    output=[]\n",
        "    for i in range(len(values)-time_steps+1):\n",
        "        output.append(values[i:(i+time_steps)])\n",
        "    return np.stack(output)"
      ],
      "metadata": {
        "id": "71Jpw97-3aDE"
      },
      "execution_count": null,
      "outputs": []
    },
    {
      "cell_type": "code",
      "source": [
        "sc2=StandardScaler()\n",
        "value = create_window(sc2.fit_transform(returnsant['Factor - Value vs Growth'].values.reshape(-1,1)))"
      ],
      "metadata": {
        "id": "ROu5yClI3xa9"
      },
      "execution_count": null,
      "outputs": []
    },
    {
      "cell_type": "code",
      "source": [
        "sc3=StandardScaler()\n",
        "rates=create_window(sc3.fit_transform(returnsant['Factor - Interest Rates'].values.reshape(-1,1)))"
      ],
      "metadata": {
        "id": "YLOwZ9vUdIDn"
      },
      "execution_count": null,
      "outputs": []
    },
    {
      "cell_type": "code",
      "source": [
        "!pip install yfinance"
      ],
      "metadata": {
        "colab": {
          "base_uri": "https://localhost:8080/"
        },
        "id": "E9vgFY5Sf_qG",
        "outputId": "bc212724-5747-4076-9f41-765fe3ae2857"
      },
      "execution_count": null,
      "outputs": [
        {
          "output_type": "stream",
          "name": "stdout",
          "text": [
            "Looking in indexes: https://pypi.org/simple, https://us-python.pkg.dev/colab-wheels/public/simple/\n",
            "Collecting yfinance\n",
            "  Downloading yfinance-0.1.74-py2.py3-none-any.whl (27 kB)\n",
            "Requirement already satisfied: lxml>=4.5.1 in /usr/local/lib/python3.7/dist-packages (from yfinance) (4.9.1)\n",
            "Requirement already satisfied: multitasking>=0.0.7 in /usr/local/lib/python3.7/dist-packages (from yfinance) (0.0.11)\n",
            "Requirement already satisfied: numpy>=1.15 in /usr/local/lib/python3.7/dist-packages (from yfinance) (1.21.6)\n",
            "Requirement already satisfied: pandas>=0.24.0 in /usr/local/lib/python3.7/dist-packages (from yfinance) (1.3.5)\n",
            "Collecting requests>=2.26\n",
            "  Downloading requests-2.28.1-py3-none-any.whl (62 kB)\n",
            "\u001b[K     |████████████████████████████████| 62 kB 880 kB/s \n",
            "\u001b[?25hRequirement already satisfied: python-dateutil>=2.7.3 in /usr/local/lib/python3.7/dist-packages (from pandas>=0.24.0->yfinance) (2.8.2)\n",
            "Requirement already satisfied: pytz>=2017.3 in /usr/local/lib/python3.7/dist-packages (from pandas>=0.24.0->yfinance) (2022.2.1)\n",
            "Requirement already satisfied: six>=1.5 in /usr/local/lib/python3.7/dist-packages (from python-dateutil>=2.7.3->pandas>=0.24.0->yfinance) (1.15.0)\n",
            "Requirement already satisfied: urllib3<1.27,>=1.21.1 in /usr/local/lib/python3.7/dist-packages (from requests>=2.26->yfinance) (1.24.3)\n",
            "Requirement already satisfied: charset-normalizer<3,>=2 in /usr/local/lib/python3.7/dist-packages (from requests>=2.26->yfinance) (2.1.1)\n",
            "Requirement already satisfied: idna<4,>=2.5 in /usr/local/lib/python3.7/dist-packages (from requests>=2.26->yfinance) (2.10)\n",
            "Requirement already satisfied: certifi>=2017.4.17 in /usr/local/lib/python3.7/dist-packages (from requests>=2.26->yfinance) (2022.6.15)\n",
            "Installing collected packages: requests, yfinance\n",
            "  Attempting uninstall: requests\n",
            "    Found existing installation: requests 2.23.0\n",
            "    Uninstalling requests-2.23.0:\n",
            "      Successfully uninstalled requests-2.23.0\n",
            "Successfully installed requests-2.28.1 yfinance-0.1.74\n"
          ]
        }
      ]
    },
    {
      "cell_type": "code",
      "source": [
        "\n",
        "import yfinance as yf\n",
        "tsla=yf.download('TSLA','2015-11-3','2021-11-3')\n",
        "tsla.Close.plot()"
      ],
      "metadata": {
        "colab": {
          "base_uri": "https://localhost:8080/",
          "height": 314
        },
        "id": "IvpiQIcSf3CR",
        "outputId": "9161dcda-96ff-4b2e-efe4-50fa2fdfe30a"
      },
      "execution_count": null,
      "outputs": [
        {
          "output_type": "stream",
          "name": "stdout",
          "text": [
            "\r[*********************100%***********************]  1 of 1 completed\n"
          ]
        },
        {
          "output_type": "execute_result",
          "data": {
            "text/plain": [
              "<matplotlib.axes._subplots.AxesSubplot at 0x7f69985f7bd0>"
            ]
          },
          "metadata": {},
          "execution_count": 3
        },
        {
          "output_type": "display_data",
          "data": {
            "text/plain": [
              "<Figure size 432x288 with 1 Axes>"
            ],
            "image/png": "[encoded data removed]"
          },
          "metadata": {
            "needs_background": "light"
          }
        }
      ]
    },
    {
      "cell_type": "code",
      "source": [
        "tslapct=tsla.Close.pct_change()"
      ],
      "metadata": {
        "id": "HDaY_8EUgIOY"
      },
      "execution_count": null,
      "outputs": []
    },
    {
      "cell_type": "code",
      "source": [
        "sc=StandardScaler()\n",
        "tsla=create_window(sc.fit_transform(tslapct.dropna().values.reshape(-1,1)))"
      ],
      "metadata": {
        "id": "cZAnvUsLgOMU"
      },
      "execution_count": null,
      "outputs": []
    },
    {
      "cell_type": "code",
      "source": [
        "value.shape"
      ],
      "metadata": {
        "colab": {
          "base_uri": "https://localhost:8080/"
        },
        "id": "mOMUC5To350l",
        "outputId": "466081d6-10c5-4a41-bace-92878b9ece60"
      },
      "execution_count": null,
      "outputs": [
        {
          "output_type": "execute_result",
          "data": {
            "text/plain": [
              "(192, 4, 1)"
            ]
          },
          "metadata": {},
          "execution_count": 8
        }
      ]
    },
    {
      "cell_type": "code",
      "source": [
        "rates.shape"
      ],
      "metadata": {
        "colab": {
          "base_uri": "https://localhost:8080/"
        },
        "id": "6xG7uN0wa1JL",
        "outputId": "2af350bd-09e3-4cdd-e177-2a051dce3b57"
      },
      "execution_count": null,
      "outputs": [
        {
          "output_type": "execute_result",
          "data": {
            "text/plain": [
              "(192, 4, 1)"
            ]
          },
          "metadata": {},
          "execution_count": 9
        }
      ]
    },
    {
      "cell_type": "code",
      "source": [
        "tsla.shape"
      ],
      "metadata": {
        "colab": {
          "base_uri": "https://localhost:8080/"
        },
        "id": "rzpsry5_ggwJ",
        "outputId": "9e3cc846-fe2f-408e-c471-c4e5832b69e3"
      },
      "execution_count": null,
      "outputs": [
        {
          "output_type": "execute_result",
          "data": {
            "text/plain": [
              "(1507, 4, 1)"
            ]
          },
          "metadata": {},
          "execution_count": 39
        }
      ]
    },
    {
      "cell_type": "code",
      "source": [
        "import tensorflow as tf\n",
        "from tensorflow import keras\n",
        "import numpy as np\n",
        "class AutoEncoder(keras.models.Model):\n",
        "    def __init__(self,inputt):\n",
        "        super().__init__()\n",
        "        self.inputt=inputt\n",
        "        self.conv=tf.keras.layers.Conv1D(32,7,padding='same',strides=2,input_shape=(self.inputt.shape[1],self.inputt.shape[2]), activation='relu')\n",
        "        self.dropout=tf.keras.layers.Dropout(rate=0.2)\n",
        "        self.conv2=tf.keras.layers.Conv1D(16,7,padding='same',strides=2,activation='relu')\n",
        "        self.conv3=tf.keras.layers.Conv1DTranspose(16,7,padding='same',strides=2,activation='relu')\n",
        "        self.conv4=tf.keras.layers.Conv1DTranspose(\n",
        "            filters=32, kernel_size=7, padding=\"same\", strides=2, activation=\"relu\"\n",
        "        )\n",
        "        self.conv5=tf.keras.layers.Conv1DTranspose(filters=1, kernel_size=7, padding=\"same\")\n",
        "    def call(self,inputt):\n",
        "        self.inputt=inputt\n",
        "        x=self.conv(self.inputt)\n",
        "        x=self.dropout(x)\n",
        "        x=self.conv2(x)\n",
        "        x=self.conv3(x)\n",
        "        x=self.dropout(x)\n",
        "        x=self.conv4(x)\n",
        "        x=self.conv5(x)\n",
        "     \n",
        "        \n",
        "        return x \n",
        "\n",
        "class anomalydetector(keras.models.Model):\n",
        "    def __init__(self):\n",
        "        super().__init__()\n",
        "        self.dense1 = tf.keras.layers.Dense(32,activation=\"relu\")\n",
        "        self.dense2 = tf.keras.layers.Dense(16,activation=\"relu\")\n",
        "        self.dense3 = tf.keras.layers.Dense(8,activation=\"relu\")\n",
        "        self.dense4 = tf.keras.layers.Dense(16,activation=\"relu\")\n",
        "        self.dense5 = tf.keras.layers.Dense(32,activation=\"relu\")\n",
        "    \n",
        "    def call(self,x):\n",
        "        x=self.dense1(x)\n",
        "        x=self.dense2(x)\n",
        "        x=self.dense3(x)\n",
        "        x=self.dense4(x)\n",
        "        x=self.dense5(x)\n",
        "        return x\n",
        "\n"
      ],
      "metadata": {
        "id": "aEs1LqO23-BP"
      },
      "execution_count": null,
      "outputs": []
    },
    {
      "cell_type": "code",
      "source": [
        "sc=StandardScaler()\n",
        "ddata= create_window(sc.fit_transform(returnsant['Hedge Fund'].values.reshape(-1,1)))"
      ],
      "metadata": {
        "id": "ORHaQQ-XAdAP"
      },
      "execution_count": null,
      "outputs": []
    },
    {
      "cell_type": "code",
      "source": [
        "ddata.shape"
      ],
      "metadata": {
        "colab": {
          "base_uri": "https://localhost:8080/"
        },
        "id": "NwmcByNPBYPK",
        "outputId": "5daad677-85f7-4de5-f063-c9e29abef035"
      },
      "execution_count": null,
      "outputs": [
        {
          "output_type": "execute_result",
          "data": {
            "text/plain": [
              "(192, 4, 1)"
            ]
          },
          "metadata": {},
          "execution_count": 8
        }
      ]
    },
    {
      "cell_type": "code",
      "source": [
        "ddata.shape = (192,4,1)\n"
      ],
      "metadata": {
        "id": "l6wjQ1m5BZzW"
      },
      "execution_count": null,
      "outputs": []
    },
    {
      "cell_type": "code",
      "source": [
        "model2=AutoEncoder(ddata)"
      ],
      "metadata": {
        "id": "9uTVK85D4KIn"
      },
      "execution_count": null,
      "outputs": []
    },
    {
      "cell_type": "code",
      "source": [
        "modelval=AutoEncoder(value)"
      ],
      "metadata": {
        "id": "z6dnFYoKcuof"
      },
      "execution_count": null,
      "outputs": []
    },
    {
      "cell_type": "code",
      "source": [
        "modelrates=AutoEncoder(rates)"
      ],
      "metadata": {
        "id": "HIjP0R7AdpMQ"
      },
      "execution_count": null,
      "outputs": []
    },
    {
      "cell_type": "code",
      "source": [
        "model3=AutoEncoder(value)"
      ],
      "metadata": {
        "id": "xu_c-0SNRgng"
      },
      "execution_count": null,
      "outputs": []
    },
    {
      "cell_type": "code",
      "source": [
        "model4=anomalydetector()"
      ],
      "metadata": {
        "id": "cHe8QgjgWHSC"
      },
      "execution_count": null,
      "outputs": []
    },
    {
      "cell_type": "code",
      "source": [
        "model5=anomalydetector()"
      ],
      "metadata": {
        "id": "ukFIZ_I0dZ5F"
      },
      "execution_count": null,
      "outputs": []
    },
    {
      "cell_type": "code",
      "source": [
        "model6=anomalydetector()"
      ],
      "metadata": {
        "id": "KoyNcTxugouG"
      },
      "execution_count": null,
      "outputs": []
    },
    {
      "cell_type": "code",
      "source": [
        "model7=AutoEncoder(tsla)"
      ],
      "metadata": {
        "id": "qqXxhZ41hnZ8"
      },
      "execution_count": null,
      "outputs": []
    },
    {
      "cell_type": "code",
      "source": [
        "model2.compile(optimizer=keras.optimizers.Adam(learning_rate=0.01),loss=\"mse\")"
      ],
      "metadata": {
        "id": "V6azz2N04VBa"
      },
      "execution_count": null,
      "outputs": []
    },
    {
      "cell_type": "code",
      "source": [
        "\n",
        "model3.compile(optimizer=keras.optimizers.Adam(learning_rate=0.01),loss=\"mse\")"
      ],
      "metadata": {
        "id": "vyPY_Id_RkFR"
      },
      "execution_count": null,
      "outputs": []
    },
    {
      "cell_type": "code",
      "source": [
        "model4.compile(optimizer=keras.optimizers.Adam(learning_rate=0.01),loss=\"mse\")"
      ],
      "metadata": {
        "id": "x62N4xW9WyXb",
        "colab": {
          "base_uri": "https://localhost:8080/",
          "height": 166
        },
        "outputId": "3d131f48-bdfe-47a8-bee8-7c93da73f413"
      },
      "execution_count": null,
      "outputs": [
        {
          "output_type": "error",
          "ename": "AttributeError",
          "evalue": "ignored",
          "traceback": [
            "\u001b[0;31m---------------------------------------------------------------------------\u001b[0m",
            "\u001b[0;31mAttributeError\u001b[0m                            Traceback (most recent call last)",
            "\u001b[0;32m<ipython-input-44-3701c0b270ad>\u001b[0m in \u001b[0;36m<module>\u001b[0;34m\u001b[0m\n\u001b[0;32m----> 1\u001b[0;31m \u001b[0mmodel4\u001b[0m\u001b[0;34m.\u001b[0m\u001b[0mcompile\u001b[0m\u001b[0;34m(\u001b[0m\u001b[0moptimizer\u001b[0m\u001b[0;34m=\u001b[0m\u001b[0mkeras\u001b[0m\u001b[0;34m.\u001b[0m\u001b[0moptimizers\u001b[0m\u001b[0;34m.\u001b[0m\u001b[0mAdam\u001b[0m\u001b[0;34m(\u001b[0m\u001b[0mlearning_rate\u001b[0m\u001b[0;34m=\u001b[0m\u001b[0;36m0.01\u001b[0m\u001b[0;34m)\u001b[0m\u001b[0;34m,\u001b[0m\u001b[0mloss\u001b[0m\u001b[0;34m=\u001b[0m\u001b[0;34m\"mse\"\u001b[0m\u001b[0;34m)\u001b[0m\u001b[0;34m\u001b[0m\u001b[0;34m\u001b[0m\u001b[0m\n\u001b[0m",
            "\u001b[0;31mAttributeError\u001b[0m: module 'keras.optimizers' has no attribute 'Adam'"
          ]
        }
      ]
    },
    {
      "cell_type": "code",
      "source": [
        "model7.compile(optimizer=keras.optimizers.Adam(learning_rate=0.01),loss=\"mse\")"
      ],
      "metadata": {
        "id": "MMnUBS6mgkYg"
      },
      "execution_count": null,
      "outputs": []
    },
    {
      "cell_type": "code",
      "source": [
        "model5.compile(optimizer=keras.optimizers.Adam(learning_rate=0.01),loss=\"mse\")"
      ],
      "metadata": {
        "id": "cKuXgYckdcfQ"
      },
      "execution_count": null,
      "outputs": []
    },
    {
      "cell_type": "code",
      "source": [
        "modelval.compile(optimizer=keras.optimizers.Adam(learning_rate=0.01),loss=\"mse\")"
      ],
      "metadata": {
        "id": "wBE3Zn9Jc2ED"
      },
      "execution_count": null,
      "outputs": []
    },
    {
      "cell_type": "code",
      "source": [
        "modelrates.compile(optimizer=keras.optimizers.Adam(learning_rate=0.01),loss=\"mse\")"
      ],
      "metadata": {
        "id": "9pRCaYYrdxXO"
      },
      "execution_count": null,
      "outputs": []
    },
    {
      "cell_type": "code",
      "source": [
        "model6.compile(optimizer=keras.optimizers.Adam(learning_rate=0.01),loss=\"mse\")"
      ],
      "metadata": {
        "id": "c4q6Q9xggshh"
      },
      "execution_count": null,
      "outputs": []
    },
    {
      "cell_type": "code",
      "source": [
        "history = model2.fit(\n",
        "    ddata,\n",
        "    ddata,\n",
        "    epochs=100,\n",
        "    batch_size=4,\n",
        "    validation_split=0.3,\n",
        "    callbacks=[\n",
        "        keras.callbacks.EarlyStopping(monitor=\"val_loss\", patience=5, mode=\"min\")\n",
        "    ],\n",
        ")"
      ],
      "metadata": {
        "colab": {
          "base_uri": "https://localhost:8080/"
        },
        "id": "rHtAs9Yb4n5F",
        "outputId": "6919cf26-1e21-48ba-e12c-7c2a801d0c45"
      },
      "execution_count": null,
      "outputs": [
        {
          "output_type": "stream",
          "name": "stdout",
          "text": [
            "Epoch 1/100\n",
            "34/34 [==============================] - 1s 10ms/step - loss: 0.5301 - val_loss: 0.9907\n",
            "Epoch 2/100\n",
            "34/34 [==============================] - 0s 3ms/step - loss: 0.2940 - val_loss: 0.6322\n",
            "Epoch 3/100\n",
            "34/34 [==============================] - 0s 4ms/step - loss: 0.2435 - val_loss: 0.4080\n",
            "Epoch 4/100\n",
            "34/34 [==============================] - 0s 4ms/step - loss: 0.1689 - val_loss: 0.3116\n",
            "Epoch 5/100\n",
            "34/34 [==============================] - 0s 3ms/step - loss: 0.2050 - val_loss: 0.3842\n",
            "Epoch 6/100\n",
            "34/34 [==============================] - 0s 4ms/step - loss: 0.1508 - val_loss: 0.2674\n",
            "Epoch 7/100\n",
            "34/34 [==============================] - 0s 4ms/step - loss: 0.1309 - val_loss: 0.2490\n",
            "Epoch 8/100\n",
            "34/34 [==============================] - 0s 4ms/step - loss: 0.1287 - val_loss: 0.2969\n",
            "Epoch 9/100\n",
            "34/34 [==============================] - 0s 3ms/step - loss: 0.1475 - val_loss: 0.2065\n",
            "Epoch 10/100\n",
            "34/34 [==============================] - 0s 3ms/step - loss: 0.1315 - val_loss: 0.2305\n",
            "Epoch 11/100\n",
            "34/34 [==============================] - 0s 3ms/step - loss: 0.1172 - val_loss: 0.2515\n",
            "Epoch 12/100\n",
            "34/34 [==============================] - 0s 4ms/step - loss: 0.1387 - val_loss: 0.2878\n",
            "Epoch 13/100\n",
            "34/34 [==============================] - 0s 3ms/step - loss: 0.1384 - val_loss: 0.2889\n",
            "Epoch 14/100\n",
            "34/34 [==============================] - 0s 4ms/step - loss: 0.1286 - val_loss: 0.1958\n",
            "Epoch 15/100\n",
            "34/34 [==============================] - 0s 4ms/step - loss: 0.1405 - val_loss: 0.2635\n",
            "Epoch 16/100\n",
            "34/34 [==============================] - 0s 4ms/step - loss: 0.1553 - val_loss: 0.2441\n",
            "Epoch 17/100\n",
            "34/34 [==============================] - 0s 3ms/step - loss: 0.1115 - val_loss: 0.2238\n",
            "Epoch 18/100\n",
            "34/34 [==============================] - 0s 4ms/step - loss: 0.1393 - val_loss: 0.3552\n",
            "Epoch 19/100\n",
            "34/34 [==============================] - 0s 3ms/step - loss: 0.1194 - val_loss: 0.1822\n",
            "Epoch 20/100\n",
            "34/34 [==============================] - 0s 4ms/step - loss: 0.1446 - val_loss: 0.3023\n",
            "Epoch 21/100\n",
            "34/34 [==============================] - 0s 4ms/step - loss: 0.1358 - val_loss: 0.2909\n",
            "Epoch 22/100\n",
            "34/34 [==============================] - 0s 4ms/step - loss: 0.1181 - val_loss: 0.1960\n",
            "Epoch 23/100\n",
            "34/34 [==============================] - 0s 4ms/step - loss: 0.1201 - val_loss: 0.2102\n",
            "Epoch 24/100\n",
            "34/34 [==============================] - 0s 4ms/step - loss: 0.1128 - val_loss: 0.1891\n"
          ]
        }
      ]
    },
    {
      "cell_type": "code",
      "source": [
        "historyval = modelval.fit(\n",
        "    value,\n",
        "    value,\n",
        "    epochs=100,\n",
        "    batch_size=4,\n",
        "    validation_split=0.3,\n",
        "    callbacks=[\n",
        "        keras.callbacks.EarlyStopping(monitor=\"val_loss\", patience=5, mode=\"min\")\n",
        "    ],\n",
        ")"
      ],
      "metadata": {
        "colab": {
          "base_uri": "https://localhost:8080/"
        },
        "id": "23t4v4q5d4B0",
        "outputId": "8fcd8ecc-e38c-478c-fc23-d1e3b7d27fc9"
      },
      "execution_count": null,
      "outputs": [
        {
          "output_type": "stream",
          "name": "stdout",
          "text": [
            "Epoch 1/100\n",
            "34/34 [==============================] - 2s 18ms/step - loss: 1.9451e-04 - val_loss: 3.3765\n",
            "Epoch 2/100\n",
            "34/34 [==============================] - 0s 7ms/step - loss: 9.0865e-07 - val_loss: 3.3754\n",
            "Epoch 3/100\n",
            "34/34 [==============================] - 0s 5ms/step - loss: 3.8083e-08 - val_loss: 3.3756\n",
            "Epoch 4/100\n",
            "34/34 [==============================] - 0s 5ms/step - loss: 1.2011e-09 - val_loss: 3.3755\n",
            "Epoch 5/100\n",
            "34/34 [==============================] - 0s 4ms/step - loss: 1.6157e-10 - val_loss: 3.3755\n",
            "Epoch 6/100\n",
            "34/34 [==============================] - 0s 5ms/step - loss: 9.5443e-11 - val_loss: 3.3755\n",
            "Epoch 7/100\n",
            "34/34 [==============================] - 0s 6ms/step - loss: 1.1025e-10 - val_loss: 3.3755\n"
          ]
        }
      ]
    },
    {
      "cell_type": "code",
      "source": [
        "historyrates = modelrates.fit(\n",
        "    rates,\n",
        "    rates,\n",
        "    epochs=100,\n",
        "    batch_size=4,\n",
        "    validation_split=0.3,\n",
        "    callbacks=[\n",
        "        keras.callbacks.EarlyStopping(monitor=\"val_loss\", patience=5, mode=\"min\")\n",
        "    ],\n",
        ")"
      ],
      "metadata": {
        "colab": {
          "base_uri": "https://localhost:8080/"
        },
        "id": "HNVX7YMGd4TN",
        "outputId": "cf9a23e7-052d-4ac9-8484-0010f84d7a76"
      },
      "execution_count": null,
      "outputs": [
        {
          "output_type": "stream",
          "name": "stdout",
          "text": [
            "Epoch 1/100\n",
            "34/34 [==============================] - 1s 13ms/step - loss: 1.4625 - val_loss: 0.0172\n",
            "Epoch 2/100\n",
            "34/34 [==============================] - 0s 5ms/step - loss: 1.3300 - val_loss: 0.0113\n",
            "Epoch 3/100\n",
            "34/34 [==============================] - 0s 4ms/step - loss: 1.3387 - val_loss: 5.7186e-04\n",
            "Epoch 4/100\n",
            "34/34 [==============================] - 0s 5ms/step - loss: 1.4224 - val_loss: 0.0011\n",
            "Epoch 5/100\n",
            "34/34 [==============================] - 0s 5ms/step - loss: 1.2380 - val_loss: 0.0072\n",
            "Epoch 6/100\n",
            "34/34 [==============================] - 0s 4ms/step - loss: 0.9195 - val_loss: 0.0017\n",
            "Epoch 7/100\n",
            "34/34 [==============================] - 0s 5ms/step - loss: 0.9898 - val_loss: 0.0055\n",
            "Epoch 8/100\n",
            "34/34 [==============================] - 0s 4ms/step - loss: 0.7966 - val_loss: 8.9800e-04\n"
          ]
        }
      ]
    },
    {
      "cell_type": "code",
      "source": [
        "history = model4.fit(\n",
        "    sc2.fit_transform(returnsant['Factor - Value vs Growth'].values.reshape(-1,1)),\n",
        "    sc2.fit_transform(returnsant['Factor - Value vs Growth'].values.reshape(-1,1)),\n",
        "    epochs=100,\n",
        "    batch_size=4,\n",
        "    validation_split=0.3,\n",
        "    callbacks=[\n",
        "        keras.callbacks.EarlyStopping(monitor=\"val_loss\", patience=5, mode=\"min\")\n",
        "    ],\n",
        ")"
      ],
      "metadata": {
        "colab": {
          "base_uri": "https://localhost:8080/"
        },
        "id": "rGlucK9LYk3d",
        "outputId": "0b16d266-162c-4ca6-e065-58bbe2fbdb1f"
      },
      "execution_count": null,
      "outputs": [
        {
          "output_type": "stream",
          "name": "stdout",
          "text": [
            "Epoch 1/100\n",
            "34/34 [==============================] - 1s 6ms/step - loss: 0.0034 - val_loss: 3.2959\n",
            "Epoch 2/100\n",
            "34/34 [==============================] - 0s 3ms/step - loss: 0.0034 - val_loss: 3.2962\n",
            "Epoch 3/100\n",
            "34/34 [==============================] - 0s 3ms/step - loss: 0.0034 - val_loss: 3.2962\n",
            "Epoch 4/100\n",
            "34/34 [==============================] - 0s 3ms/step - loss: 0.0034 - val_loss: 3.2962\n",
            "Epoch 5/100\n",
            "34/34 [==============================] - 0s 3ms/step - loss: 0.0034 - val_loss: 3.2962\n",
            "Epoch 6/100\n",
            "34/34 [==============================] - 0s 4ms/step - loss: 0.0034 - val_loss: 3.2962\n"
          ]
        }
      ]
    },
    {
      "cell_type": "code",
      "source": [
        "history = model5.fit(\n",
        "    rates,\n",
        "    rates,\n",
        "    epochs=100,\n",
        "    batch_size=4,\n",
        "    validation_split=0.3,\n",
        "    callbacks=[\n",
        "        keras.callbacks.EarlyStopping(monitor=\"val_loss\", patience=5, mode=\"min\")\n",
        "    ],\n",
        ")"
      ],
      "metadata": {
        "colab": {
          "base_uri": "https://localhost:8080/"
        },
        "id": "POkPqS2rdgM2",
        "outputId": "cb1de01e-2841-4d49-ef31-aa2fb033a6b3"
      },
      "execution_count": null,
      "outputs": [
        {
          "output_type": "stream",
          "name": "stdout",
          "text": [
            "Epoch 1/100\n",
            "34/34 [==============================] - 1s 16ms/step - loss: 1.2309 - val_loss: 0.0092\n",
            "Epoch 2/100\n",
            "34/34 [==============================] - 0s 12ms/step - loss: 1.2420 - val_loss: 0.0092\n",
            "Epoch 3/100\n",
            "34/34 [==============================] - 0s 11ms/step - loss: 1.0816 - val_loss: 0.0092\n",
            "Epoch 4/100\n",
            "34/34 [==============================] - 0s 14ms/step - loss: 0.8930 - val_loss: 0.0092\n",
            "Epoch 5/100\n",
            "34/34 [==============================] - 0s 13ms/step - loss: 0.8250 - val_loss: 0.0092\n",
            "Epoch 6/100\n",
            "34/34 [==============================] - 0s 11ms/step - loss: 0.8154 - val_loss: 0.0092\n"
          ]
        }
      ]
    },
    {
      "cell_type": "code",
      "source": [
        "history6 = model6.fit(\n",
        "    sc.fit_transform(tslapct.dropna().values.reshape(-1,1)),\n",
        "    sc.fit_transform(tslapct.dropna().values.reshape(-1,1)),\n",
        "    epochs=30,\n",
        "    batch_size=20,\n",
        "    validation_split=0.3,\n",
        "    callbacks=[\n",
        "        keras.callbacks.EarlyStopping(monitor=\"val_loss\", patience=5, mode=\"min\")\n",
        "    ],\n",
        ")"
      ],
      "metadata": {
        "colab": {
          "base_uri": "https://localhost:8080/"
        },
        "id": "_izgW8R_gzi0",
        "outputId": "8cad7311-fd21-4101-e9f3-309e3e5a3154"
      },
      "execution_count": null,
      "outputs": [
        {
          "output_type": "stream",
          "name": "stdout",
          "text": [
            "Epoch 1/30\n",
            "53/53 [==============================] - 0s 4ms/step - loss: 0.4772 - val_loss: 1.1595\n",
            "Epoch 2/30\n",
            "53/53 [==============================] - 0s 4ms/step - loss: 0.4772 - val_loss: 1.1595\n",
            "Epoch 3/30\n",
            "53/53 [==============================] - 0s 3ms/step - loss: 0.4772 - val_loss: 1.1595\n",
            "Epoch 4/30\n",
            "53/53 [==============================] - 0s 4ms/step - loss: 0.4772 - val_loss: 1.1603\n",
            "Epoch 5/30\n",
            "53/53 [==============================] - 0s 3ms/step - loss: 0.4773 - val_loss: 1.1601\n",
            "Epoch 6/30\n",
            "53/53 [==============================] - 0s 3ms/step - loss: 0.4774 - val_loss: 1.1599\n",
            "Epoch 7/30\n",
            "53/53 [==============================] - 0s 4ms/step - loss: 0.4777 - val_loss: 1.1624\n"
          ]
        }
      ]
    },
    {
      "cell_type": "code",
      "source": [
        "history7 = model7.fit(\n",
        "    tsla,\n",
        "    tsla,\n",
        "    epochs=100,\n",
        "    batch_size=20,\n",
        "    validation_split=0.3,\n",
        "    callbacks=[\n",
        "        keras.callbacks.EarlyStopping(monitor=\"val_loss\", patience=5, mode=\"min\")\n",
        "    ],\n",
        ")"
      ],
      "metadata": {
        "colab": {
          "base_uri": "https://localhost:8080/"
        },
        "id": "majcYsL_h1KZ",
        "outputId": "5a68546e-a9a9-405a-c268-3c2754796d21"
      },
      "execution_count": null,
      "outputs": [
        {
          "output_type": "stream",
          "name": "stdout",
          "text": [
            "Epoch 1/100\n",
            "53/53 [==============================] - 1s 8ms/step - loss: 0.2869 - val_loss: 0.1966\n",
            "Epoch 2/100\n",
            "53/53 [==============================] - 0s 4ms/step - loss: 0.1189 - val_loss: 0.1710\n",
            "Epoch 3/100\n",
            "53/53 [==============================] - 0s 4ms/step - loss: 0.1189 - val_loss: 0.1347\n",
            "Epoch 4/100\n",
            "53/53 [==============================] - 0s 4ms/step - loss: 0.0999 - val_loss: 0.1241\n",
            "Epoch 5/100\n",
            "53/53 [==============================] - 0s 4ms/step - loss: 0.0887 - val_loss: 0.1723\n",
            "Epoch 6/100\n",
            "53/53 [==============================] - 0s 4ms/step - loss: 0.0946 - val_loss: 0.1343\n",
            "Epoch 7/100\n",
            "53/53 [==============================] - 0s 4ms/step - loss: 0.0879 - val_loss: 0.1143\n",
            "Epoch 8/100\n",
            "53/53 [==============================] - 0s 5ms/step - loss: 0.0949 - val_loss: 0.1079\n",
            "Epoch 9/100\n",
            "53/53 [==============================] - 0s 4ms/step - loss: 0.0825 - val_loss: 0.1580\n",
            "Epoch 10/100\n",
            "53/53 [==============================] - 0s 4ms/step - loss: 0.0873 - val_loss: 0.1136\n",
            "Epoch 11/100\n",
            "53/53 [==============================] - 0s 5ms/step - loss: 0.0856 - val_loss: 0.1360\n",
            "Epoch 12/100\n",
            "53/53 [==============================] - 0s 5ms/step - loss: 0.0746 - val_loss: 0.1558\n",
            "Epoch 13/100\n",
            "53/53 [==============================] - 0s 4ms/step - loss: 0.0816 - val_loss: 0.1363\n"
          ]
        }
      ]
    },
    {
      "cell_type": "code",
      "source": [
        "import matplotlib.pyplot as plt\n",
        "x_train_pred7 = model7.predict(tsla)\n",
        "train_mae_loss7 = np.mean(np.abs(x_train_pred7 -tsla), axis=1)\n",
        "\n",
        "plt.hist(train_mae_loss7, bins=50)\n",
        "plt.xlabel(\"Train MAE loss\")\n",
        "plt.ylabel(\"No of samples\")\n",
        "plt.show()\n",
        "\n",
        "# Get reconstruction loss threshold.\n",
        "threshold7 = np.max(train_mae_loss7)\n",
        "print(\"Reconstruction error threshold: \", threshold7)"
      ],
      "metadata": {
        "colab": {
          "base_uri": "https://localhost:8080/",
          "height": 302
        },
        "id": "sCwTb-YBh7JQ",
        "outputId": "213e8538-4755-4ec9-8a8d-da95ab389792"
      },
      "execution_count": null,
      "outputs": [
        {
          "output_type": "display_data",
          "data": {
            "text/plain": [
              "<Figure size 432x288 with 1 Axes>"
            ],
            "image/png": "[encoded data removed]"
          },
          "metadata": {
            "needs_background": "light"
          }
        },
        {
          "output_type": "stream",
          "name": "stdout",
          "text": [
            "Reconstruction error threshold:  1.3255833712050273\n"
          ]
        }
      ]
    },
    {
      "cell_type": "code",
      "source": [
        "anomalies7 = train_mae_loss7 > 0.6\n",
        "cnnind=np.where(anomalies7)\n",
        "colorcnn=np.zeros(1510)\n",
        "colorcnn[[cnnind]]=1"
      ],
      "metadata": {
        "colab": {
          "base_uri": "https://localhost:8080/"
        },
        "id": "Sjl_98XLiEzr",
        "outputId": "1b842d6f-f893-4ee9-859c-1233bfd1aae3"
      },
      "execution_count": null,
      "outputs": [
        {
          "output_type": "stream",
          "name": "stderr",
          "text": [
            "/usr/local/lib/python3.7/dist-packages/ipykernel_launcher.py:4: FutureWarning: Using a non-tuple sequence for multidimensional indexing is deprecated; use `arr[tuple(seq)]` instead of `arr[seq]`. In the future this will be interpreted as an array index, `arr[np.array(seq)]`, which will result either in an error or a different result.\n",
            "  after removing the cwd from sys.path.\n"
          ]
        }
      ]
    },
    {
      "cell_type": "code",
      "source": [
        "plt.scatter(tslapct.dropna().index,tslapct.dropna().values,c=colorcnn)\n"
      ],
      "metadata": {
        "colab": {
          "base_uri": "https://localhost:8080/",
          "height": 288
        },
        "id": "bhgloQMMjOKy",
        "outputId": "54250a81-c6ef-447c-a32b-7988f8eb5d40"
      },
      "execution_count": null,
      "outputs": [
        {
          "output_type": "execute_result",
          "data": {
            "text/plain": [
              "<matplotlib.collections.PathCollection at 0x7f69281c8290>"
            ]
          },
          "metadata": {},
          "execution_count": 25
        },
        {
          "output_type": "display_data",
          "data": {
            "text/plain": [
              "<Figure size 432x288 with 1 Axes>"
            ],
            "image/png": "[encoded data removed]"
          },
          "metadata": {
            "needs_background": "light"
          }
        }
      ]
    },
    {
      "cell_type": "code",
      "source": [
        "import matplotlib.pyplot as plt\n",
        "x_train_pred8 = model6.predict(sc.fit_transform(tslapct.dropna().values.reshape(-1,1)))\n",
        "train_mae_loss8 = np.mean(np.abs(x_train_pred8 -sc.fit_transform(tslapct.dropna().values.reshape(-1,1))), axis=1)\n",
        "\n",
        "plt.hist(train_mae_loss8, bins=50)\n",
        "plt.xlabel(\"Train MAE loss\")\n",
        "plt.ylabel(\"No of samples\")\n",
        "plt.show()\n",
        "\n",
        "# Get reconstruction loss threshold.\n",
        "threshold8 = np.max(train_mae_loss8)\n",
        "print(\"Reconstruction error threshold: \", threshold8)"
      ],
      "metadata": {
        "colab": {
          "base_uri": "https://localhost:8080/",
          "height": 302
        },
        "id": "Gg3P5AMmhHYv",
        "outputId": "88a39946-76ac-4828-9acd-4a47f9245792"
      },
      "execution_count": null,
      "outputs": [
        {
          "output_type": "display_data",
          "data": {
            "text/plain": [
              "<Figure size 432x288 with 1 Axes>"
            ],
            "image/png": "[encoded data removed]"
          },
          "metadata": {
            "needs_background": "light"
          }
        },
        {
          "output_type": "stream",
          "name": "stdout",
          "text": [
            "Reconstruction error threshold:  5.959307508467968\n"
          ]
        }
      ]
    },
    {
      "cell_type": "code",
      "source": [
        "anomalies8 = train_mae_loss8 > 0.6\n",
        "cind=np.where(anomalies8)\n",
        "colorcc=np.zeros(1510)\n",
        "colorcc[[cind]]=1\n",
        "plt.scatter(tslapct.dropna().index,tslapct.dropna().values,c=colorcc)"
      ],
      "metadata": {
        "colab": {
          "base_uri": "https://localhost:8080/",
          "height": 352
        },
        "id": "1nbg5-J6onRu",
        "outputId": "43cb3aed-8a0c-4a07-c74d-a99842d21d91"
      },
      "execution_count": null,
      "outputs": [
        {
          "output_type": "stream",
          "name": "stderr",
          "text": [
            "/usr/local/lib/python3.7/dist-packages/ipykernel_launcher.py:4: FutureWarning: Using a non-tuple sequence for multidimensional indexing is deprecated; use `arr[tuple(seq)]` instead of `arr[seq]`. In the future this will be interpreted as an array index, `arr[np.array(seq)]`, which will result either in an error or a different result.\n",
            "  after removing the cwd from sys.path.\n"
          ]
        },
        {
          "output_type": "execute_result",
          "data": {
            "text/plain": [
              "<matplotlib.collections.PathCollection at 0x7f69283a0d50>"
            ]
          },
          "metadata": {},
          "execution_count": 22
        },
        {
          "output_type": "display_data",
          "data": {
            "text/plain": [
              "<Figure size 432x288 with 1 Axes>"
            ],
            "image/png": "[encoded data removed]"
          },
          "metadata": {
            "needs_background": "light"
          }
        }
      ]
    },
    {
      "cell_type": "code",
      "source": [
        "import matplotlib.pyplot as plt\n",
        "x_train_pred = model2.predict(ddata)\n",
        "train_mae_loss = np.mean(np.abs(x_train_pred -ddata), axis=1)\n",
        "\n",
        "plt.hist(train_mae_loss, bins=50)\n",
        "plt.xlabel(\"Train MAE loss\")\n",
        "plt.ylabel(\"No of samples\")\n",
        "plt.show()\n",
        "\n",
        "# Get reconstruction loss threshold.\n",
        "threshold = np.max(train_mae_loss)\n",
        "print(\"Reconstruction error threshold: \", threshold)"
      ],
      "metadata": {
        "colab": {
          "base_uri": "https://localhost:8080/",
          "height": 296
        },
        "id": "3whYH3Ux4yme",
        "outputId": "dd637deb-02c2-4f6c-d245-c28f84ccf0d7"
      },
      "execution_count": null,
      "outputs": [
        {
          "output_type": "display_data",
          "data": {
            "text/plain": [
              "<Figure size 432x288 with 1 Axes>"
            ],
            "image/png": "[encoded data removed]"
          },
          "metadata": {
            "needs_background": "light"
          }
        },
        {
          "output_type": "stream",
          "name": "stdout",
          "text": [
            "Reconstruction error threshold:  0.936139621252188\n"
          ]
        }
      ]
    },
    {
      "cell_type": "code",
      "source": [
        "anomalies = train_mae_loss > 0.4\n",
        "print(\"Indices of anomaly samples: \", np.where(anomalies))"
      ],
      "metadata": {
        "colab": {
          "base_uri": "https://localhost:8080/"
        },
        "id": "PdxVqwAQX516",
        "outputId": "ff430159-cf99-4fea-f1d3-fe8de106eece"
      },
      "execution_count": null,
      "outputs": [
        {
          "output_type": "stream",
          "name": "stdout",
          "text": [
            "Indices of anomaly samples:  (array([112, 139, 147, 161, 162, 175, 176, 177, 178, 179, 180, 182, 185,\n",
            "       187, 188, 189, 191]), array([0, 0, 0, 0, 0, 0, 0, 0, 0, 0, 0, 0, 0, 0, 0, 0, 0]))\n"
          ]
        }
      ]
    },
    {
      "cell_type": "code",
      "source": [
        "hedge=returnsant['Hedge Fund']\n",
        "indiceshedge=np.where(anomalies)[0]\n",
        "indiceshedge\n",
        "colorhedge=np.zeros(195)\n",
        "colorhedge[indiceshedge]=1\n",
        "plt.scatter(hedge.index,hedge.values, c=colorhedge)"
      ],
      "metadata": {
        "colab": {
          "base_uri": "https://localhost:8080/",
          "height": 282
        },
        "id": "PZtzZT8Vn8Cy",
        "outputId": "7af6b69a-2b67-40eb-8f49-801081450e87"
      },
      "execution_count": null,
      "outputs": [
        {
          "output_type": "execute_result",
          "data": {
            "text/plain": [
              "<matplotlib.collections.PathCollection at 0x7f178d283110>"
            ]
          },
          "metadata": {},
          "execution_count": 58
        },
        {
          "output_type": "display_data",
          "data": {
            "text/plain": [
              "<Figure size 432x288 with 1 Axes>"
            ],
            "image/png": "[encoded data removed]"
          },
          "metadata": {
            "needs_background": "light"
          }
        }
      ]
    },
    {
      "cell_type": "code",
      "source": [
        "import matplotlib.pyplot as plt\n",
        "x_train_pred = modelval.predict(value)\n",
        "train_mae_loss = np.mean(np.abs(x_train_pred -value), axis=1)\n",
        "\n",
        "plt.hist(train_mae_loss, bins=50)\n",
        "plt.xlabel(\"Train MAE loss\")\n",
        "plt.ylabel(\"No of samples\")\n",
        "plt.show()\n",
        "\n",
        "# Get reconstruction loss threshold.\n",
        "threshold = np.max(train_mae_loss)\n",
        "print(\"Reconstruction error threshold: \", threshold)"
      ],
      "metadata": {
        "colab": {
          "base_uri": "https://localhost:8080/",
          "height": 296
        },
        "id": "-acTiOLAePvQ",
        "outputId": "10b9e2a8-6193-4f36-95ae-c5c9cb7f3362"
      },
      "execution_count": null,
      "outputs": [
        {
          "output_type": "display_data",
          "data": {
            "text/plain": [
              "<Figure size 432x288 with 1 Axes>"
            ],
            "image/png": "[encoded data removed]"
          },
          "metadata": {
            "needs_background": "light"
          }
        },
        {
          "output_type": "stream",
          "name": "stdout",
          "text": [
            "Reconstruction error threshold:  5.345485321504629\n"
          ]
        }
      ]
    },
    {
      "cell_type": "code",
      "source": [
        "anomaliese = train_mae_loss > 0.9\n",
        "print(\"Indices of anomaly samples: \", np.where(anomaliese))"
      ],
      "metadata": {
        "colab": {
          "base_uri": "https://localhost:8080/"
        },
        "id": "Rj9LscEmefJI",
        "outputId": "44ca3e52-c692-449f-dbc9-2a22057cff4f"
      },
      "execution_count": null,
      "outputs": [
        {
          "output_type": "stream",
          "name": "stdout",
          "text": [
            "Indices of anomaly samples:  (array([176, 177, 178, 179, 180, 181]), array([0, 0, 0, 0, 0, 0]))\n"
          ]
        }
      ]
    },
    {
      "cell_type": "code",
      "source": [
        "vall=returnsant['Factor - Value vs Growth']\n",
        "indicesval=np.where(anomaliese)[0]\n",
        "\n",
        "colorval=np.zeros(195)\n",
        "colorval[indicesval]=1\n",
        "plt.scatter(vall.index,vall.values, c=colorval)"
      ],
      "metadata": {
        "colab": {
          "base_uri": "https://localhost:8080/",
          "height": 282
        },
        "id": "2HAMXZeWprKH",
        "outputId": "583effcb-a3c5-455a-bd4b-4683e49a77f4"
      },
      "execution_count": null,
      "outputs": [
        {
          "output_type": "execute_result",
          "data": {
            "text/plain": [
              "<matplotlib.collections.PathCollection at 0x7f17960d6b10>"
            ]
          },
          "metadata": {},
          "execution_count": 44
        },
        {
          "output_type": "display_data",
          "data": {
            "text/plain": [
              "<Figure size 432x288 with 1 Axes>"
            ],
            "image/png": "[encoded data removed]"
          },
          "metadata": {
            "needs_background": "light"
          }
        }
      ]
    },
    {
      "cell_type": "code",
      "source": [
        "import matplotlib.pyplot as plt\n",
        "x_train_pred = modelrates.predict(rates)\n",
        "train_mae_loss = np.mean(np.abs(x_train_pred -rates), axis=1)\n",
        "\n",
        "plt.hist(train_mae_loss, bins=50)\n",
        "plt.xlabel(\"Train MAE loss\")\n",
        "plt.ylabel(\"No of samples\")\n",
        "plt.show()\n",
        "\n",
        "# Get reconstruction loss threshold.\n",
        "threshold = np.max(train_mae_loss)\n",
        "print(\"Reconstruction error threshold: \", threshold)"
      ],
      "metadata": {
        "colab": {
          "base_uri": "https://localhost:8080/",
          "height": 296
        },
        "id": "wJbT0qsEejTf",
        "outputId": "22951c09-dc80-4138-d12c-0cacc43f849c"
      },
      "execution_count": null,
      "outputs": [
        {
          "output_type": "display_data",
          "data": {
            "text/plain": [
              "<Figure size 432x288 with 1 Axes>"
            ],
            "image/png": "[encoded data removed]"
          },
          "metadata": {
            "needs_background": "light"
          }
        },
        {
          "output_type": "stream",
          "name": "stdout",
          "text": [
            "Reconstruction error threshold:  4.671055942870071\n"
          ]
        }
      ]
    },
    {
      "cell_type": "code",
      "source": [
        "anomaliesee = train_mae_loss > 0.4\n",
        "print(\"Indices of anomaly samples: \", np.where(anomaliesee))"
      ],
      "metadata": {
        "colab": {
          "base_uri": "https://localhost:8080/"
        },
        "id": "QbTjPGbYep1y",
        "outputId": "30482213-f65a-44b2-b240-d5df4b497c6e"
      },
      "execution_count": null,
      "outputs": [
        {
          "output_type": "stream",
          "name": "stdout",
          "text": [
            "Indices of anomaly samples:  (array([21, 22, 23, 24, 25, 26]), array([0, 0, 0, 0, 0, 0]))\n"
          ]
        }
      ]
    },
    {
      "cell_type": "code",
      "source": [
        "ratess=returnsant['Factor - Interest Rates']\n",
        "indicesrates=np.where(anomaliesee)[0]\n",
        "colorrates=np.zeros(195)\n",
        "colorrates[indicesrates]=1\n",
        "plt.scatter(ratess.index,ratess.values, c=colorrates)"
      ],
      "metadata": {
        "colab": {
          "base_uri": "https://localhost:8080/",
          "height": 282
        },
        "id": "POpsH3RmqQQp",
        "outputId": "8fc2f65d-7b8f-4c98-d1e3-320bb22575e5"
      },
      "execution_count": null,
      "outputs": [
        {
          "output_type": "execute_result",
          "data": {
            "text/plain": [
              "<matplotlib.collections.PathCollection at 0x7f179221cfd0>"
            ]
          },
          "metadata": {},
          "execution_count": 49
        },
        {
          "output_type": "display_data",
          "data": {
            "text/plain": [
              "<Figure size 432x288 with 1 Axes>"
            ],
            "image/png": "[encoded data removed]"
          },
          "metadata": {
            "needs_background": "light"
          }
        }
      ]
    },
    {
      "cell_type": "code",
      "source": [
        "import matplotlib.pyplot as plt\n",
        "x_train_pred = model4.predict(sc2.fit_transform(returnsant['Factor - Value vs Growth'].values.reshape(-1,1)))\n",
        "train_mae_loss = np.mean(np.abs(x_train_pred -sc2.fit_transform(returnsant['Factor - Value vs Growth'].values.reshape(-1,1)) ),axis=1)\n",
        "\n",
        "plt.hist(train_mae_loss, bins=50)\n",
        "plt.xlabel(\"Train MAE loss\")\n",
        "plt.ylabel(\"No of samples\")\n",
        "plt.show()\n",
        "\n",
        "# Get reconstruction loss threshold.\n",
        "threshold = np.mean(train_mae_loss) + np.std(train_mae_loss)\n",
        "print(\"Reconstruction error threshold: \", threshold)"
      ],
      "metadata": {
        "colab": {
          "base_uri": "https://localhost:8080/",
          "height": 298
        },
        "id": "gd-JDea7YAJ2",
        "outputId": "23b43069-33a4-4a4f-bd03-500275e1861b"
      },
      "execution_count": null,
      "outputs": [
        {
          "output_type": "display_data",
          "data": {
            "text/plain": [
              "<Figure size 432x288 with 1 Axes>"
            ],
            "image/png": "[encoded data removed]"
          },
          "metadata": {
            "needs_background": "light"
          }
        },
        {
          "output_type": "stream",
          "name": "stdout",
          "text": [
            "Reconstruction error threshold:  1.152793973902533\n"
          ]
        }
      ]
    },
    {
      "cell_type": "code",
      "source": [
        "import matplotlib.pyplot as plt\n",
        "x_train_pred = model5.predict(rates)\n",
        "train_mae_loss = np.mean(np.abs(x_train_pred -rates ),axis=1)\n",
        "\n",
        "plt.hist(train_mae_loss, bins=50)\n",
        "plt.xlabel(\"Train MAE loss\")\n",
        "plt.ylabel(\"No of samples\")\n",
        "plt.show()\n",
        "\n",
        "# Get reconstruction loss threshold.\n",
        "threshold = np.mean(train_mae_loss) + np.std(train_mae_loss)\n",
        "print(\"Reconstruction error threshold: \", threshold)"
      ],
      "metadata": {
        "colab": {
          "base_uri": "https://localhost:8080/",
          "height": 298
        },
        "id": "FTXfr9iDfQ0c",
        "outputId": "5c4232b4-1905-42a2-b679-1b83521de8f7"
      },
      "execution_count": null,
      "outputs": [
        {
          "output_type": "display_data",
          "data": {
            "text/plain": [
              "<Figure size 432x288 with 1 Axes>"
            ],
            "image/png": "[encoded data removed]"
          },
          "metadata": {
            "needs_background": "light"
          }
        },
        {
          "output_type": "stream",
          "name": "stdout",
          "text": [
            "Reconstruction error threshold:  0.8082697651451852\n"
          ]
        }
      ]
    },
    {
      "cell_type": "code",
      "source": [
        "plt.plot(np.mean(x_train_pred,axis=1))\n",
        "#plt.plot(returnsant['Factor - Value vs Growth'].values.reshape(-1,1))"
      ],
      "metadata": {
        "colab": {
          "base_uri": "https://localhost:8080/",
          "height": 285
        },
        "id": "N4QKEdJYZY_3",
        "outputId": "f2e03017-4e85-42cb-9e9a-2d8c6c76d056"
      },
      "execution_count": null,
      "outputs": [
        {
          "output_type": "execute_result",
          "data": {
            "text/plain": [
              "[<matplotlib.lines.Line2D at 0x7f3de7d4e2d0>]"
            ]
          },
          "metadata": {},
          "execution_count": 91
        },
        {
          "output_type": "display_data",
          "data": {
            "text/plain": [
              "<Figure size 432x288 with 1 Axes>"
            ],
            "image/png": "[encoded data removed]"
          },
          "metadata": {
            "needs_background": "light"
          }
        }
      ]
    },
    {
      "cell_type": "code",
      "source": [
        "import matplotlib.pyplot as plt\n",
        "x_train_pred = model4.predict(sc.fit_transform(returnsant['Hedge Fund'].values.reshape(-1,1)))\n",
        "train_mae_loss = np.mean(np.abs(x_train_pred -sc.fit_transform(returnsant['Hedge Fund'].values.reshape(-1,1)) ), axis=1)\n",
        "\n",
        "plt.hist(train_mae_loss, bins=50)\n",
        "plt.xlabel(\"Train MAE loss\")\n",
        "plt.ylabel(\"No of samples\")\n",
        "plt.show()\n",
        "\n",
        "# Get reconstruction loss threshold.\n",
        "threshold = np.max(train_mae_loss)\n",
        "print(\"Reconstruction error threshold: \", threshold)"
      ],
      "metadata": {
        "id": "fw2ywk8DY0fx"
      },
      "execution_count": null,
      "outputs": []
    },
    {
      "cell_type": "code",
      "source": [
        "x_train_pred.shape"
      ],
      "metadata": {
        "colab": {
          "base_uri": "https://localhost:8080/"
        },
        "id": "1BGLXNgkNm7F",
        "outputId": "712347cb-f165-4540-b915-1d7d9fa54e8e"
      },
      "execution_count": null,
      "outputs": [
        {
          "output_type": "execute_result",
          "data": {
            "text/plain": [
              "(192, 4, 1)"
            ]
          },
          "metadata": {},
          "execution_count": 47
        }
      ]
    },
    {
      "cell_type": "code",
      "source": [
        "pred=x_train_pred"
      ],
      "metadata": {
        "id": "dLP2vovcOdBF"
      },
      "execution_count": null,
      "outputs": []
    },
    {
      "cell_type": "code",
      "source": [
        "anomalies = train_mae_loss > 0.8\n",
        "print(\"Indices of anomaly samples: \", np.where(anomalies))"
      ],
      "metadata": {
        "colab": {
          "base_uri": "https://localhost:8080/"
        },
        "id": "3m374HTt7gmp",
        "outputId": "d48c162b-3b73-40a3-cbac-496508e9066c"
      },
      "execution_count": null,
      "outputs": [
        {
          "output_type": "stream",
          "name": "stdout",
          "text": [
            "Indices of anomaly samples:  (array([24, 25, 26]),)\n"
          ]
        }
      ]
    },
    {
      "cell_type": "code",
      "source": [
        "plt.plot(((returnsant['Factor - Crowding']-np.mean(returnsant['Factor - Crowding'])/(np.std(returnsant['Factor - Crowding'])))))\n"
      ],
      "metadata": {
        "colab": {
          "base_uri": "https://localhost:8080/",
          "height": 282
        },
        "id": "lIdabDJy7kTW",
        "outputId": "995707f3-b503-40c0-a162-a40dc04076b0"
      },
      "execution_count": null,
      "outputs": [
        {
          "output_type": "execute_result",
          "data": {
            "text/plain": [
              "[<matplotlib.lines.Line2D at 0x7f287c2aad10>]"
            ]
          },
          "metadata": {},
          "execution_count": 26
        },
        {
          "output_type": "display_data",
          "data": {
            "text/plain": [
              "<Figure size 432x288 with 1 Axes>"
            ],
            "image/png": "[encoded data removed]"
          },
          "metadata": {
            "needs_background": "light"
          }
        }
      ]
    },
    {
      "cell_type": "code",
      "source": [
        "plt.plot(np.log((returnsant['Factor - Crowding']+2-np.mean(returnsant['Factor - Crowding'])/(np.std(returnsant['Factor - Crowding'])))))"
      ],
      "metadata": {
        "colab": {
          "base_uri": "https://localhost:8080/",
          "height": 282
        },
        "id": "xdW9OZujBeBh",
        "outputId": "daa2c200-0d69-4081-ed1a-c4d51e0bb0b6"
      },
      "execution_count": null,
      "outputs": [
        {
          "output_type": "execute_result",
          "data": {
            "text/plain": [
              "[<matplotlib.lines.Line2D at 0x7f287c1bae10>]"
            ]
          },
          "metadata": {},
          "execution_count": 28
        },
        {
          "output_type": "display_data",
          "data": {
            "text/plain": [
              "<Figure size 432x288 with 1 Axes>"
            ],
            "image/png": "[encoded data removed]"
          },
          "metadata": {
            "needs_background": "light"
          }
        }
      ]
    },
    {
      "cell_type": "code",
      "source": [
        "from sklearn.mixture import GaussianMixture\n",
        "\n",
        "# fit model\n",
        "model = GaussianMixture(n_components=2, init_params='random')\n",
        "model.fit(returnsant['Factor - Crowding'].values.reshape(-1,1))\n",
        "# predict latent values\n",
        "yhat = model.predict(returnsant['Factor - Crowding'].values.reshape(-1,1))"
      ],
      "metadata": {
        "id": "8h1El4pD8fK1"
      },
      "execution_count": null,
      "outputs": []
    },
    {
      "cell_type": "code",
      "source": [
        "plt.hist(returnsant['Factor - Crowding'].values, bins=50, density=True)\n",
        "plt.show()"
      ],
      "metadata": {
        "colab": {
          "base_uri": "https://localhost:8080/",
          "height": 268
        },
        "id": "aXDQWKjQ9nmt",
        "outputId": "21e4e386-a95d-40b6-dc71-f24e0590a716"
      },
      "execution_count": null,
      "outputs": [
        {
          "output_type": "display_data",
          "data": {
            "text/plain": [
              "<Figure size 432x288 with 1 Axes>"
            ],
            "image/png": "[encoded data removed]"
          },
          "metadata": {
            "needs_background": "light"
          }
        }
      ]
    },
    {
      "cell_type": "code",
      "source": [
        "print(yhat)\n"
      ],
      "metadata": {
        "colab": {
          "base_uri": "https://localhost:8080/"
        },
        "id": "I4OL4np_99EI",
        "outputId": "45171879-c771-4308-922f-e07a34af3120"
      },
      "execution_count": null,
      "outputs": [
        {
          "output_type": "stream",
          "name": "stdout",
          "text": [
            "[0 0 0 0 0 0 0 0 0 0 0 0 0 0 0 0 0 0 0 0 0 0 0 0 0 0 0 0 0 0 0 0 1 0 0 0 1\n",
            " 0 0 1 0 0 0 0 0 0 0 0 0 0 0 0 0 0 0 0 0 0 0 0 0 0 0 0 0 0 0 0 0 0 0 0 0 0\n",
            " 0 0 0 0 1 0 0 0 0 0 0 0 0 0 0 0 0 0 0 0 0 0 0 0 0 0 0 0 0 0 0 0 0 0 0 0 0\n",
            " 0 0 0 0 0 0 0 0 0 0 1 0 0 0 0 0 0 0 0 0 0 0 0 0 0 0 0 0 0 0 0 0 0 0 0 0 0\n",
            " 0 0 0 0 0 0 0 0 0 0 0 0 0 0 0 0 0 0 1 1 0 0 1 0 0 0 0 0 0 0 1 0 1 0 0 0 0\n",
            " 0 0 0 0 0 0 1 1 0 0]\n"
          ]
        }
      ]
    },
    {
      "cell_type": "code",
      "source": [
        "!pip install --upgrade git+https://github.com/Danyleb/Lstm-Variational-Auto-encoder.git"
      ],
      "metadata": {
        "colab": {
          "base_uri": "https://localhost:8080/"
        },
        "id": "iF40AbU4LEcN",
        "outputId": "00042729-d50b-4c27-9321-30470fc1efd3"
      },
      "execution_count": null,
      "outputs": [
        {
          "output_type": "stream",
          "name": "stdout",
          "text": [
            "Looking in indexes: https://pypi.org/simple, https://us-python.pkg.dev/colab-wheels/public/simple/\n",
            "Collecting git+https://github.com/Danyleb/Lstm-Variational-Auto-encoder.git\n",
            "  Cloning https://github.com/Danyleb/Lstm-Variational-Auto-encoder.git to /tmp/pip-req-build-mg7gsye4\n",
            "  Running command git clone -q https://github.com/Danyleb/Lstm-Variational-Auto-encoder.git /tmp/pip-req-build-mg7gsye4\n",
            "Building wheels for collected packages: Lstm-variationnal-Auto-encoder\n",
            "  Building wheel for Lstm-variationnal-Auto-encoder (setup.py) ... \u001b[?25l\u001b[?25hdone\n",
            "  Created wheel for Lstm-variationnal-Auto-encoder: filename=Lstm_variationnal_Auto_encoder-1.1.0-py3-none-any.whl size=6535 sha256=df0b6144c6418ed73f6894b879c12a28e296a111eb78d985336817638601de1a\n",
            "  Stored in directory: /tmp/pip-ephem-wheel-cache-ju09mw3o/wheels/ee/b0/52/306a3ef1019ae7c518f8f7aa7d3ea90e2a559bf9a0391284a6\n",
            "Successfully built Lstm-variationnal-Auto-encoder\n",
            "Installing collected packages: Lstm-variationnal-Auto-encoder\n",
            "Successfully installed Lstm-variationnal-Auto-encoder-1.1.0\n"
          ]
        }
      ]
    },
    {
      "cell_type": "code",
      "source": [
        "import keras\n",
        "from keras import backend as K\n",
        "from keras.models import Sequential, Model\n",
        "from keras.layers import Input, LSTM, RepeatVector,TimeDistributed\n",
        "from keras.layers.core import Flatten, Dense, Dropout, Lambda\n",
        "latent_dim = 1\n",
        "inter_dim = 32\n",
        "timesteps, features = 4, 1\n",
        "\n",
        "def sampling(args):\n",
        "    z_mean, z_log_sigma = args\n",
        "    batch_size = tf.shape(z_mean)[0] # <================\n",
        "    epsilon = K.random_normal(shape=(batch_size, latent_dim), mean=0., stddev=1.)\n",
        "    return z_mean + z_log_sigma * epsilon\n",
        "\n",
        "\n",
        "input_x = Input(shape= (timesteps, features)) \n",
        "\n",
        "h = LSTM(inter_dim, activation='relu')(input_x)\n",
        "\n",
        "\n",
        "z_mean = Dense(latent_dim)(h)\n",
        "z_log_sigma = Dense(latent_dim)(h)\n",
        "z = Lambda(sampling)([z_mean, z_log_sigma])\n",
        "\n",
        "# Reconstruction decoder\n",
        "decoder1 = RepeatVector(timesteps)(z)\n",
        "decoder1 = LSTM(inter_dim, activation='relu', return_sequences=True)(decoder1)\n",
        "decoder1 = TimeDistributed(Dense(features))(decoder1)\n",
        "\n",
        "def vae_loss2(input_x, decoder1, z_log_sigma, z_mean):\n",
        "    \"\"\" Calculate loss = reconstruction loss + KL loss for each data in minibatch \"\"\"\n",
        "    # E[log P(X|z)]\n",
        "    recon = K.sum(K.binary_crossentropy(input_x, decoder1))\n",
        "    # D_KL(Q(z|X) || P(z|X)); calculate in closed form as both dist. are Gaussian\n",
        "    kl = 0.5 * K.sum(K.exp(z_log_sigma) + K.square(z_mean) - 1. - z_log_sigma)\n",
        "\n",
        "    return recon + kl\n",
        "\n",
        "m = Model(input_x, decoder1)\n",
        "m.add_loss(vae_loss2(input_x, decoder1, z_log_sigma, z_mean)) #<===========\n",
        "m.compile(loss=None, optimizer='adam')"
      ],
      "metadata": {
        "id": "g2jFp4J8LQMr"
      },
      "execution_count": null,
      "outputs": []
    },
    {
      "cell_type": "code",
      "source": [
        " sc2=StandardScaler()\n",
        "val= returnsant['Factor - Value vs Growth']\n",
        "val= sc2.fit_transform(val.values.reshape(-1,1))\n",
        "val=create_window(val)\n",
        "m.fit(val.reshape(192,4))"
      ],
      "metadata": {
        "colab": {
          "base_uri": "https://localhost:8080/"
        },
        "id": "_4lCxNHMSvvd",
        "outputId": "ce7cf61d-bc5c-40f4-ba7d-535d2b9c2492"
      },
      "execution_count": null,
      "outputs": [
        {
          "output_type": "stream",
          "name": "stdout",
          "text": [
            "6/6 [==============================] - 1s 5ms/step - loss: 1.8503\n"
          ]
        },
        {
          "output_type": "execute_result",
          "data": {
            "text/plain": [
              "<keras.callbacks.History at 0x7f9f586a8610>"
            ]
          },
          "metadata": {},
          "execution_count": 74
        }
      ]
    },
    {
      "cell_type": "code",
      "source": [
        "m.fit(ddata)"
      ],
      "metadata": {
        "colab": {
          "base_uri": "https://localhost:8080/"
        },
        "id": "dI0o5ZqJY3Hd",
        "outputId": "0ea562a1-059c-47ff-81d9-3954b6caaf07"
      },
      "execution_count": null,
      "outputs": [
        {
          "output_type": "stream",
          "name": "stdout",
          "text": [
            "6/6 [==============================] - 2s 6ms/step - loss: 5.3060\n"
          ]
        },
        {
          "output_type": "execute_result",
          "data": {
            "text/plain": [
              "<keras.callbacks.History at 0x7f34a8095210>"
            ]
          },
          "metadata": {},
          "execution_count": 22
        }
      ]
    },
    {
      "cell_type": "code",
      "source": [
        "resval=m.predict(val)"
      ],
      "metadata": {
        "id": "x5868qdzTihx"
      },
      "execution_count": null,
      "outputs": []
    },
    {
      "cell_type": "code",
      "source": [
        "resval3=m.predict(ddata)"
      ],
      "metadata": {
        "id": "RxPLqb3wY8IP"
      },
      "execution_count": null,
      "outputs": []
    },
    {
      "cell_type": "code",
      "source": [
        "m.fit(rates)\n",
        "resval4=m.predict(rates)"
      ],
      "metadata": {
        "colab": {
          "base_uri": "https://localhost:8080/"
        },
        "id": "UE93Or4ae8SJ",
        "outputId": "6dadd312-1647-4d4e-a0a1-904315207300"
      },
      "execution_count": null,
      "outputs": [
        {
          "output_type": "stream",
          "name": "stdout",
          "text": [
            "6/6 [==============================] - 2s 5ms/step - loss: 3.0528\n"
          ]
        }
      ]
    },
    {
      "cell_type": "code",
      "source": [
        "m.fit(tsla)\n",
        "tslares=m.predict(tsla)"
      ],
      "metadata": {
        "id": "M97QXRYHe-sy",
        "colab": {
          "base_uri": "https://localhost:8080/"
        },
        "outputId": "51cef638-013a-4dc0-db49-305852e42554"
      },
      "execution_count": null,
      "outputs": [
        {
          "output_type": "stream",
          "name": "stdout",
          "text": [
            "48/48 [==============================] - 6s 6ms/step - loss: -141.6075\n"
          ]
        }
      ]
    },
    {
      "cell_type": "code",
      "source": [
        "import matplotlib.pyplot as plt\n",
        "errort=np.mean(np.abs(tslares-tsla),axis=1)\n",
        "plt.hist(errort)"
      ],
      "metadata": {
        "colab": {
          "base_uri": "https://localhost:8080/",
          "height": 376
        },
        "id": "E3ytvn8ylfvz",
        "outputId": "ebaba548-82ff-4bb4-ecdd-1adc5291b4c6"
      },
      "execution_count": null,
      "outputs": [
        {
          "output_type": "execute_result",
          "data": {
            "text/plain": [
              "(array([536., 610., 207.,  89.,  37.,  11.,  11.,   3.,   0.,   3.]),\n",
              " array([0.05571635, 0.44614721, 0.83657808, 1.22700894, 1.6174398 ,\n",
              "        2.00787066, 2.39830153, 2.78873239, 3.17916325, 3.56959411,\n",
              "        3.96002498]),\n",
              " <a list of 10 Patch objects>)"
            ]
          },
          "metadata": {},
          "execution_count": 52
        },
        {
          "output_type": "display_data",
          "data": {
            "text/plain": [
              "<Figure size 432x288 with 1 Axes>"
            ],
            "image/png": "[encoded data removed]"
          },
          "metadata": {
            "needs_background": "light"
          }
        }
      ]
    },
    {
      "cell_type": "code",
      "source": [
        "thresholdt = np.mean(errort) + np.std(errort)\n",
        "print(\"Reconstruction error threshold: \", thresholdt)"
      ],
      "metadata": {
        "colab": {
          "base_uri": "https://localhost:8080/"
        },
        "id": "_iOUJXnolpZN",
        "outputId": "f4bc073c-9a88-47c2-f036-b7e677f8a56f"
      },
      "execution_count": null,
      "outputs": [
        {
          "output_type": "stream",
          "name": "stdout",
          "text": [
            "Reconstruction error threshold:  1.1239951900544447\n"
          ]
        }
      ]
    },
    {
      "cell_type": "code",
      "source": [
        "indicesvae=np.where(errort > 1.12)\n",
        "colorvaet=np.zeros(1510)\n",
        "colorvaet[[indicesvae]]=1"
      ],
      "metadata": {
        "colab": {
          "base_uri": "https://localhost:8080/"
        },
        "id": "KGydX367lslR",
        "outputId": "91b437a1-4469-43fb-fec4-9e9539fcf39d"
      },
      "execution_count": null,
      "outputs": [
        {
          "output_type": "stream",
          "name": "stderr",
          "text": [
            "/usr/local/lib/python3.7/dist-packages/ipykernel_launcher.py:3: FutureWarning: Using a non-tuple sequence for multidimensional indexing is deprecated; use `arr[tuple(seq)]` instead of `arr[seq]`. In the future this will be interpreted as an array index, `arr[np.array(seq)]`, which will result either in an error or a different result.\n",
            "  This is separate from the ipykernel package so we can avoid doing imports until\n"
          ]
        }
      ]
    },
    {
      "cell_type": "code",
      "source": [
        "plt.scatter(tslapct.dropna().index,tslapct.dropna().values,c=colorvaet)"
      ],
      "metadata": {
        "colab": {
          "base_uri": "https://localhost:8080/",
          "height": 288
        },
        "id": "BR_Df1pel1k9",
        "outputId": "5350986c-a70a-4e40-db7a-140f5601a1b8"
      },
      "execution_count": null,
      "outputs": [
        {
          "output_type": "execute_result",
          "data": {
            "text/plain": [
              "<matplotlib.collections.PathCollection at 0x7f2a6e4f5a90>"
            ]
          },
          "metadata": {},
          "execution_count": 61
        },
        {
          "output_type": "display_data",
          "data": {
            "text/plain": [
              "<Figure size 432x288 with 1 Axes>"
            ],
            "image/png": "[encoded data removed]"
          },
          "metadata": {
            "needs_background": "light"
          }
        }
      ]
    },
    {
      "cell_type": "code",
      "source": [
        "plt.scatter(tslapct.dropna().index,tslapct.dropna().values,c=colorcnn)"
      ],
      "metadata": {
        "colab": {
          "base_uri": "https://localhost:8080/",
          "height": 288
        },
        "id": "54ZaJ_-3n-7w",
        "outputId": "ab63150a-96e4-4d80-e57d-097502447d9d"
      },
      "execution_count": null,
      "outputs": [
        {
          "output_type": "execute_result",
          "data": {
            "text/plain": [
              "<matplotlib.collections.PathCollection at 0x7f2a77666b90>"
            ]
          },
          "metadata": {},
          "execution_count": 62
        },
        {
          "output_type": "display_data",
          "data": {
            "text/plain": [
              "<Figure size 432x288 with 1 Axes>"
            ],
            "image/png": "[encoded data removed]"
          },
          "metadata": {
            "needs_background": "light"
          }
        }
      ]
    },
    {
      "cell_type": "code",
      "source": [
        "import matplotlib.pyplot as plt\n",
        "error=np.mean(np.abs(resval-val),axis=1)\n",
        "plt.hist(error)"
      ],
      "metadata": {
        "colab": {
          "base_uri": "https://localhost:8080/",
          "height": 352
        },
        "id": "30OPzI2mTrFu",
        "outputId": "237f8b36-f8ec-466e-da12-4c3ae253620f"
      },
      "execution_count": null,
      "outputs": [
        {
          "output_type": "execute_result",
          "data": {
            "text/plain": [
              "(array([186.,   0.,   1.,   0.,   1.,   1.,   0.,   1.,   0.,   2.]),\n",
              " array([0.04948069, 0.57891486, 1.10834904, 1.63778321, 2.16721738,\n",
              "        2.69665156, 3.22608573, 3.7555199 , 4.28495408, 4.81438825,\n",
              "        5.34382242]),\n",
              " <a list of 10 Patch objects>)"
            ]
          },
          "metadata": {},
          "execution_count": 80
        },
        {
          "output_type": "display_data",
          "data": {
            "text/plain": [
              "<Figure size 432x288 with 1 Axes>"
            ],
            "image/png": "[encoded data removed]"
          },
          "metadata": {
            "needs_background": "light"
          }
        }
      ]
    },
    {
      "cell_type": "code",
      "source": [
        "import matplotlib.pyplot as plt\n",
        "error2=np.mean(np.abs(resval3-ddata),axis=1)\n",
        "plt.hist(error2)"
      ],
      "metadata": {
        "colab": {
          "base_uri": "https://localhost:8080/",
          "height": 352
        },
        "id": "B5WTru2rZPmy",
        "outputId": "82ae2872-2951-4c06-c725-5e8e1214123d"
      },
      "execution_count": null,
      "outputs": [
        {
          "output_type": "execute_result",
          "data": {
            "text/plain": [
              "(array([15., 54., 46., 29., 24., 14.,  4.,  2.,  0.,  4.]),\n",
              " array([0.19016301, 0.38971313, 0.58926325, 0.78881337, 0.98836349,\n",
              "        1.18791361, 1.38746373, 1.58701385, 1.78656397, 1.98611409,\n",
              "        2.18566421]),\n",
              " <a list of 10 Patch objects>)"
            ]
          },
          "metadata": {},
          "execution_count": 25
        },
        {
          "output_type": "display_data",
          "data": {
            "text/plain": [
              "<Figure size 432x288 with 1 Axes>"
            ],
            "image/png": "[encoded data removed]"
          },
          "metadata": {
            "needs_background": "light"
          }
        }
      ]
    },
    {
      "cell_type": "code",
      "source": [
        "import matplotlib.pyplot as plt\n",
        "error3=np.mean(np.abs(resval4-rates),axis=1)\n",
        "plt.hist(error3)"
      ],
      "metadata": {
        "colab": {
          "base_uri": "https://localhost:8080/",
          "height": 352
        },
        "id": "4_hWRrVxfGde",
        "outputId": "7e66fa38-59bd-4aba-9a22-3cb3a37735be"
      },
      "execution_count": null,
      "outputs": [
        {
          "output_type": "execute_result",
          "data": {
            "text/plain": [
              "(array([187.,   0.,   1.,   0.,   0.,   0.,   0.,   1.,   0.,   3.]),\n",
              " array([0.09574223, 0.5499118 , 1.00408137, 1.45825094, 1.91242051,\n",
              "        2.36659008, 2.82075965, 3.27492922, 3.72909879, 4.18326836,\n",
              "        4.63743793]),\n",
              " <a list of 10 Patch objects>)"
            ]
          },
          "metadata": {},
          "execution_count": 27
        },
        {
          "output_type": "display_data",
          "data": {
            "text/plain": [
              "<Figure size 432x288 with 1 Axes>"
            ],
            "image/png": "[encoded data removed]"
          },
          "metadata": {
            "needs_background": "light"
          }
        }
      ]
    },
    {
      "cell_type": "code",
      "source": [
        "threshold = np.mean(error) + np.std(error)\n",
        "print(\"Reconstruction error threshold: \", threshold)"
      ],
      "metadata": {
        "colab": {
          "base_uri": "https://localhost:8080/"
        },
        "id": "lkv2GX3GD9UE",
        "outputId": "e0399ddf-479b-4373-89c9-abea9a8f15ae"
      },
      "execution_count": null,
      "outputs": [
        {
          "output_type": "stream",
          "name": "stdout",
          "text": [
            "Reconstruction error threshold:  0.8308932069974877\n"
          ]
        }
      ]
    },
    {
      "cell_type": "code",
      "source": [
        "anomalies = error > 0.8\n",
        "print(\"Indices of anomaly samples: \", np.where(anomalies))"
      ],
      "metadata": {
        "colab": {
          "base_uri": "https://localhost:8080/"
        },
        "id": "yu9rKwDaEGDF",
        "outputId": "6b5dde43-d6a3-457e-d2d5-315f14575819"
      },
      "execution_count": null,
      "outputs": [
        {
          "output_type": "stream",
          "name": "stdout",
          "text": [
            "Indices of anomaly samples:  (array([176, 177, 178, 179, 180, 181]), array([0, 0, 0, 0, 0, 0]))\n"
          ]
        }
      ]
    },
    {
      "cell_type": "code",
      "source": [
        "\n",
        "vall=returnsant['Factor - Value vs Growth']\n",
        "indicesval2=[176, 177, 178, 179, 180, 181]\n",
        "\n",
        "colorval2=np.zeros(195)\n",
        "colorval2[indicesval2]=1\n",
        "plt.scatter(vall.index,vall.values, c=colorval2)"
      ],
      "metadata": {
        "colab": {
          "base_uri": "https://localhost:8080/",
          "height": 282
        },
        "id": "g8MOoM0_yTQe",
        "outputId": "8a30eb1b-8713-452b-938f-e0b26906af62"
      },
      "execution_count": null,
      "outputs": [
        {
          "output_type": "execute_result",
          "data": {
            "text/plain": [
              "<matplotlib.collections.PathCollection at 0x7f178da27650>"
            ]
          },
          "metadata": {},
          "execution_count": 65
        },
        {
          "output_type": "display_data",
          "data": {
            "text/plain": [
              "<Figure size 432x288 with 1 Axes>"
            ],
            "image/png": "[encoded data removed]"
          },
          "metadata": {
            "needs_background": "light"
          }
        }
      ]
    },
    {
      "cell_type": "code",
      "source": [
        "\n",
        "plt.scatter(vall.index,vall.values, c=colorval)"
      ],
      "metadata": {
        "colab": {
          "base_uri": "https://localhost:8080/",
          "height": 282
        },
        "id": "QPiS-3Pqzs_g",
        "outputId": "258cdf99-de3e-4af8-98dc-d61a70b2bb9e"
      },
      "execution_count": null,
      "outputs": [
        {
          "output_type": "execute_result",
          "data": {
            "text/plain": [
              "<matplotlib.collections.PathCollection at 0x7f178d814410>"
            ]
          },
          "metadata": {},
          "execution_count": 68
        },
        {
          "output_type": "display_data",
          "data": {
            "text/plain": [
              "<Figure size 432x288 with 1 Axes>"
            ],
            "image/png": "[encoded data removed]"
          },
          "metadata": {
            "needs_background": "light"
          }
        }
      ]
    },
    {
      "cell_type": "code",
      "source": [
        "threshold2 = np.mean(error2) + np.std(error2)\n",
        "print(\"Reconstruction error threshold: \", threshold)"
      ],
      "metadata": {
        "colab": {
          "base_uri": "https://localhost:8080/"
        },
        "id": "lA7gX116ZZai",
        "outputId": "cc92debc-e5be-49ee-ae82-0865dba9f2a8"
      },
      "execution_count": null,
      "outputs": [
        {
          "output_type": "stream",
          "name": "stdout",
          "text": [
            "Reconstruction error threshold:  0.927327545160614\n"
          ]
        }
      ]
    },
    {
      "cell_type": "code",
      "source": [
        "anomalies2 = error2 > 1.5\n",
        "print(\"Indices of anomaly samples: \", np.where(anomalies2))"
      ],
      "metadata": {
        "colab": {
          "base_uri": "https://localhost:8080/"
        },
        "id": "iSD59vhBZd_H",
        "outputId": "9244e0e1-3e04-4415-f0bd-fdd7d8103ab8"
      },
      "execution_count": null,
      "outputs": [
        {
          "output_type": "stream",
          "name": "stdout",
          "text": [
            "Indices of anomaly samples:  (array([173, 175, 176, 177, 178, 179, 189]), array([0, 0, 0, 0, 0, 0, 0]))\n"
          ]
        }
      ]
    },
    {
      "cell_type": "code",
      "source": [
        "\n",
        "\n",
        "indiceshedge2=[173, 175, 176, 177, 178, 179, 189]\n",
        "colorhedge2=np.zeros(195)\n",
        "colorhedge2[indiceshedge2]=1\n",
        "plt.scatter(hedge.index,hedge.values, c=colorhedge2)"
      ],
      "metadata": {
        "colab": {
          "base_uri": "https://localhost:8080/",
          "height": 282
        },
        "id": "Ii8__eZbr4iV",
        "outputId": "5bf0f115-6842-4d3d-f720-41ef7889c213"
      },
      "execution_count": null,
      "outputs": [
        {
          "output_type": "execute_result",
          "data": {
            "text/plain": [
              "<matplotlib.collections.PathCollection at 0x7f1790bdc610>"
            ]
          },
          "metadata": {},
          "execution_count": 52
        },
        {
          "output_type": "display_data",
          "data": {
            "text/plain": [
              "<Figure size 432x288 with 1 Axes>"
            ],
            "image/png": "[encoded data removed]"
          },
          "metadata": {
            "needs_background": "light"
          }
        }
      ]
    },
    {
      "cell_type": "code",
      "source": [
        "plt.scatter(hedge.index,hedge.values, c=colorhedge)"
      ],
      "metadata": {
        "colab": {
          "base_uri": "https://localhost:8080/",
          "height": 282
        },
        "id": "aqHagEeLsdon",
        "outputId": "5cd1a65f-868c-40fe-c606-6f18224afca8"
      },
      "execution_count": null,
      "outputs": [
        {
          "output_type": "execute_result",
          "data": {
            "text/plain": [
              "<matplotlib.collections.PathCollection at 0x7f178daeb790>"
            ]
          },
          "metadata": {},
          "execution_count": 59
        },
        {
          "output_type": "display_data",
          "data": {
            "text/plain": [
              "<Figure size 432x288 with 1 Axes>"
            ],
            "image/png": "[encoded data removed]"
          },
          "metadata": {
            "needs_background": "light"
          }
        }
      ]
    },
    {
      "cell_type": "code",
      "source": [
        "threshold3 = np.mean(error3) + np.std(error3)\n",
        "print(\"Reconstruction error threshold: \", threshold3)"
      ],
      "metadata": {
        "colab": {
          "base_uri": "https://localhost:8080/"
        },
        "id": "wZXRdKPyfOHh",
        "outputId": "810071ed-3509-473d-a139-a0196925904e"
      },
      "execution_count": null,
      "outputs": [
        {
          "output_type": "stream",
          "name": "stdout",
          "text": [
            "Reconstruction error threshold:  0.7910477842788082\n"
          ]
        }
      ]
    },
    {
      "cell_type": "code",
      "source": [
        "anomalies3 = error3 > 1.5\n",
        "print(\"Indices of anomaly samples: \", np.where(anomalies3))"
      ],
      "metadata": {
        "colab": {
          "base_uri": "https://localhost:8080/"
        },
        "id": "dGry-vJefQgD",
        "outputId": "fea74728-8da3-45cb-8d84-10370a45cbad"
      },
      "execution_count": null,
      "outputs": [
        {
          "output_type": "stream",
          "name": "stdout",
          "text": [
            "Indices of anomaly samples:  (array([21, 22, 23, 24]), array([0, 0, 0, 0]))\n"
          ]
        }
      ]
    },
    {
      "cell_type": "code",
      "source": [
        "\n",
        "indicesrates2=[21, 22, 23, 24]\n",
        "\n",
        "colorrates2=np.zeros(195)\n",
        "colorrates2[indicesrates2]=1\n",
        "plt.scatter(ratess.index,ratess.values, c=colorrates2)"
      ],
      "metadata": {
        "colab": {
          "base_uri": "https://localhost:8080/",
          "height": 282
        },
        "id": "jNfKlylNzLTl",
        "outputId": "37d307d1-d5c1-43b1-8828-a254ccba587f"
      },
      "execution_count": null,
      "outputs": [
        {
          "output_type": "execute_result",
          "data": {
            "text/plain": [
              "<matplotlib.collections.PathCollection at 0x7f178d924b10>"
            ]
          },
          "metadata": {},
          "execution_count": 66
        },
        {
          "output_type": "display_data",
          "data": {
            "text/plain": [
              "<Figure size 432x288 with 1 Axes>"
            ],
            "image/png": "[encoded data removed]"
          },
          "metadata": {
            "needs_background": "light"
          }
        }
      ]
    },
    {
      "cell_type": "code",
      "source": [
        "plt.scatter(ratess.index,ratess.values, c=colorrates)"
      ],
      "metadata": {
        "colab": {
          "base_uri": "https://localhost:8080/",
          "height": 282
        },
        "id": "b2hwNqdRzg1f",
        "outputId": "f07507fe-5f0d-4212-88fb-7b5b6269b6d1"
      },
      "execution_count": null,
      "outputs": [
        {
          "output_type": "execute_result",
          "data": {
            "text/plain": [
              "<matplotlib.collections.PathCollection at 0x7f178d8ad190>"
            ]
          },
          "metadata": {},
          "execution_count": 67
        },
        {
          "output_type": "display_data",
          "data": {
            "text/plain": [
              "<Figure size 432x288 with 1 Axes>"
            ],
            "image/png": "[encoded data removed]"
          },
          "metadata": {
            "needs_background": "light"
          }
        }
      ]
    },
    {
      "cell_type": "code",
      "source": [
        "!pip install copulas"
      ],
      "metadata": {
        "colab": {
          "base_uri": "https://localhost:8080/"
        },
        "id": "ikRrqcy5-Wly",
        "outputId": "5e3a6d53-a208-4116-b0c2-68065c4a8a5d"
      },
      "execution_count": null,
      "outputs": [
        {
          "output_type": "stream",
          "name": "stdout",
          "text": [
            "Looking in indexes: https://pypi.org/simple, https://us-python.pkg.dev/colab-wheels/public/simple/\n",
            "Requirement already satisfied: copulas in /usr/local/lib/python3.7/dist-packages (0.7.0)\n",
            "Requirement already satisfied: pandas<2,>=1.1.3 in /usr/local/lib/python3.7/dist-packages (from copulas) (1.3.5)\n",
            "Requirement already satisfied: matplotlib<4,>=3.4.0 in /usr/local/lib/python3.7/dist-packages (from copulas) (3.5.2)\n",
            "Requirement already satisfied: numpy<2,>=1.20.0 in /usr/local/lib/python3.7/dist-packages (from copulas) (1.21.6)\n",
            "Requirement already satisfied: scipy<2,>=1.5.4 in /usr/local/lib/python3.7/dist-packages (from copulas) (1.7.3)\n",
            "Requirement already satisfied: pyparsing>=2.2.1 in /usr/local/lib/python3.7/dist-packages (from matplotlib<4,>=3.4.0->copulas) (3.0.9)\n",
            "Requirement already satisfied: packaging>=20.0 in /usr/local/lib/python3.7/dist-packages (from matplotlib<4,>=3.4.0->copulas) (21.3)\n",
            "Requirement already satisfied: kiwisolver>=1.0.1 in /usr/local/lib/python3.7/dist-packages (from matplotlib<4,>=3.4.0->copulas) (1.4.4)\n",
            "Requirement already satisfied: fonttools>=4.22.0 in /usr/local/lib/python3.7/dist-packages (from matplotlib<4,>=3.4.0->copulas) (4.34.4)\n",
            "Requirement already satisfied: pillow>=6.2.0 in /usr/local/lib/python3.7/dist-packages (from matplotlib<4,>=3.4.0->copulas) (7.1.2)\n",
            "Requirement already satisfied: python-dateutil>=2.7 in /usr/local/lib/python3.7/dist-packages (from matplotlib<4,>=3.4.0->copulas) (2.8.2)\n",
            "Requirement already satisfied: cycler>=0.10 in /usr/local/lib/python3.7/dist-packages (from matplotlib<4,>=3.4.0->copulas) (0.11.0)\n",
            "Requirement already satisfied: typing-extensions in /usr/local/lib/python3.7/dist-packages (from kiwisolver>=1.0.1->matplotlib<4,>=3.4.0->copulas) (4.1.1)\n",
            "Requirement already satisfied: pytz>=2017.3 in /usr/local/lib/python3.7/dist-packages (from pandas<2,>=1.1.3->copulas) (2022.1)\n",
            "Requirement already satisfied: six>=1.5 in /usr/local/lib/python3.7/dist-packages (from python-dateutil>=2.7->matplotlib<4,>=3.4.0->copulas) (1.15.0)\n"
          ]
        }
      ]
    },
    {
      "cell_type": "code",
      "source": [
        "from copulas.multivariate import GaussianMultivariate\n",
        "\n",
        "from copulas.univariate import BetaUnivariate, GaussianKDE, GaussianUnivariate\n",
        "from copulas.univariate import ParametricType, Univariate\n",
        "\n",
        "univariate = Univariate(parametric=ParametricType.PARAMETRIC)\n",
        "\n",
        "dist = GaussianMultivariate(distribution=univariate)\n",
        "dist.fit(returnsant['Factor - Crowding'].values)"
      ],
      "metadata": {
        "colab": {
          "base_uri": "https://localhost:8080/"
        },
        "id": "fOxBsyTG-HJt",
        "outputId": "23c9c54a-1e84-4355-c4cb-ae07896a21d0"
      },
      "execution_count": null,
      "outputs": [
        {
          "output_type": "stream",
          "name": "stderr",
          "text": [
            "/usr/local/lib/python3.7/dist-packages/scipy/stats/_continuous_distns.py:639: RuntimeWarning: invalid value encountered in sqrt\n",
            "  sk = 2*(b-a)*np.sqrt(a + b + 1) / (a + b + 2) / np.sqrt(a*b)\n",
            "/usr/local/lib/python3.7/dist-packages/scipy/optimize/minpack.py:175: RuntimeWarning: The iteration is not making good progress, as measured by the \n",
            "  improvement from the last ten iterations.\n",
            "  warnings.warn(msg, RuntimeWarning)\n",
            "/usr/local/lib/python3.7/dist-packages/scipy/stats/_continuous_distns.py:5320: RuntimeWarning: divide by zero encountered in true_divide\n",
            "  return c**2 / (c**2 - n**2)\n",
            "/usr/local/lib/python3.7/dist-packages/scipy/stats/_distn_infrastructure.py:2606: RuntimeWarning: invalid value encountered in double_scalars\n",
            "  Lhat = muhat - Shat*mu\n"
          ]
        }
      ]
    },
    {
      "cell_type": "code",
      "source": [
        "skrt=dist.to_dict()"
      ],
      "metadata": {
        "id": "dGOQSNOD-UuV"
      },
      "execution_count": null,
      "outputs": []
    },
    {
      "cell_type": "code",
      "source": [
        "skrt"
      ],
      "metadata": {
        "colab": {
          "base_uri": "https://localhost:8080/"
        },
        "id": "1V9hvoJQ-3ss",
        "outputId": "10cdea4c-6569-4253-aad5-6164a61bccdb"
      },
      "execution_count": null,
      "outputs": [
        {
          "output_type": "execute_result",
          "data": {
            "text/plain": [
              "{'columns': [0],\n",
              " 'covariance': [[1.0]],\n",
              " 'type': 'copulas.multivariate.gaussian.GaussianMultivariate',\n",
              " 'univariates': [{'a': -8.434779542691835,\n",
              "   'b': 4.010371190494562,\n",
              "   'loc': 0.002219236223589744,\n",
              "   'scale': 0.006456537501334546,\n",
              "   'type': 'copulas.univariate.truncated_gaussian.TruncatedGaussian'}]}"
            ]
          },
          "metadata": {},
          "execution_count": 20
        }
      ]
    },
    {
      "cell_type": "code",
      "source": [
        "returnsant['Factor - Crowding'].iloc[0:24]=np.isnan"
      ],
      "metadata": {
        "colab": {
          "base_uri": "https://localhost:8080/"
        },
        "id": "emg4l-Q3-4RH",
        "outputId": "6b3d0946-6340-4d2e-d8b9-0a53f1d16860"
      },
      "execution_count": null,
      "outputs": [
        {
          "output_type": "stream",
          "name": "stderr",
          "text": [
            "/usr/local/lib/python3.7/dist-packages/pandas/core/indexing.py:1732: SettingWithCopyWarning: \n",
            "A value is trying to be set on a copy of a slice from a DataFrame\n",
            "\n",
            "See the caveats in the documentation: https://pandas.pydata.org/pandas-docs/stable/user_guide/indexing.html#returning-a-view-versus-a-copy\n",
            "  self._setitem_single_block(indexer, value, name)\n"
          ]
        }
      ]
    },
    {
      "cell_type": "code",
      "source": [
        "interp=returnsant['Factor - Crowding'].interpolate(method='spline')"
      ],
      "metadata": {
        "id": "YgyOh6rlFu6g"
      },
      "execution_count": null,
      "outputs": []
    },
    {
      "cell_type": "code",
      "source": [
        "interp.values"
      ],
      "metadata": {
        "colab": {
          "base_uri": "https://localhost:8080/"
        },
        "id": "UyK9oVdQF6CL",
        "outputId": "4cf3741c-636e-4098-d166-530e32985aaa"
      },
      "execution_count": null,
      "outputs": [
        {
          "output_type": "execute_result",
          "data": {
            "text/plain": [
              "array([<ufunc 'isnan'>, <ufunc 'isnan'>, <ufunc 'isnan'>, <ufunc 'isnan'>,\n",
              "       <ufunc 'isnan'>, <ufunc 'isnan'>, <ufunc 'isnan'>, <ufunc 'isnan'>,\n",
              "       <ufunc 'isnan'>, <ufunc 'isnan'>, <ufunc 'isnan'>, <ufunc 'isnan'>,\n",
              "       <ufunc 'isnan'>, <ufunc 'isnan'>, <ufunc 'isnan'>, <ufunc 'isnan'>,\n",
              "       <ufunc 'isnan'>, <ufunc 'isnan'>, <ufunc 'isnan'>, <ufunc 'isnan'>,\n",
              "       <ufunc 'isnan'>, <ufunc 'isnan'>, <ufunc 'isnan'>, <ufunc 'isnan'>,\n",
              "       -0.001965682, 0.00029188, 2.64911e-05, -0.000553583, 0.009135017,\n",
              "       0.004828035, 0.002321179, 0.00149433, -0.052240115, 0.011084472,\n",
              "       0.00661459, 0.000656651, 0.02750984, 0.011642236, -0.00577812,\n",
              "       -0.020111385, 0.006848019, 0.008048794, 0.002037666, 0.002161982,\n",
              "       0.009352986, 0.010373429, 0.007257802, 0.000913154, 0.009029015,\n",
              "       0.010642858, -0.000617213, -0.003969337, 0.000322336, 0.004246882,\n",
              "       0.009463971, 0.01309778, 0.003347571, 0.012624543, 0.00586107,\n",
              "       0.009721134, 0.002788872, -0.001936377, -0.001559583, 0.012400983,\n",
              "       0.010702132, 0.005752787, 0.012793594, -0.008254169, 0.01361742,\n",
              "       0.007269757, 0.009191497, 0.001743576, 0.000808726, 0.007550633,\n",
              "       0.011239881, 0.007622339, 0.010138068, -0.003233309, 0.01806702,\n",
              "       0.006451034, 0.008828367, -0.001333108, 0.009124874, -0.000366888,\n",
              "       0.006249213, -0.00353598, 0.000339724, 9.93992e-05, -0.002133832,\n",
              "       0.007738848, -0.002341481, 0.00126685, -0.007845528, 0.00995643,\n",
              "       0.007349262, -0.002133255, 0.003670802, 0.003225762, -0.001969373,\n",
              "       -0.000446428, 0.010222239, -0.003870934, 0.004531095, 0.004463003,\n",
              "       0.009902626, 0.004182039, 0.007810261, 0.003633169, 0.001977251,\n",
              "       0.004371496, 0.006510793, 0.003907517, 0.000752148, 0.002827165,\n",
              "       0.001236358, 0.00681967, -0.002956521, 0.011253732, 0.004032602,\n",
              "       -0.000957638, 0.003036309, -0.021475552, -0.001390474, 0.006155689,\n",
              "       0.012164869, -0.006554574, 0.005852379, 0.006964019, 0.004217839,\n",
              "       0.008197157, -0.00060227, -1.03827e-05, 0.001145755, 0.001028936,\n",
              "       0.003550945, 0.003393079, -0.000905549, -0.003273622, 0.008211905,\n",
              "       0.002315399, -0.004539154, -0.000529975, 0.000746825, 0.001813299,\n",
              "       0.009511698, -0.002634384, 0.004625316, 0.005532012, 0.001423475,\n",
              "       0.006497075, 0.003909396, 0.000385477, -0.008388638, 0.007205832,\n",
              "       0.01097998, -0.00149026, -0.002855691, 0.000376771, 0.003349206,\n",
              "       0.000608082, -0.006551444, -0.003064483, -0.001507845,\n",
              "       -0.005112244, -0.006709309, -0.004821086, -0.021311587,\n",
              "       0.021622455, -0.002624271, -0.002144013, -0.013465282,\n",
              "       -0.008469076, -0.003241569, -0.01025651, 0.002954469, -0.003151788,\n",
              "       -0.006234833, 0.010925854, -0.015507026, 0.007546747, -0.049555848,\n",
              "       0.016775898, 0.007823201, 0.017250094, 0.010999667, -0.002553291,\n",
              "       0.015509719, 0.008362968, 0.01032916, 0.003048447, -0.002835783,\n",
              "       0.028112229, 0.024205124, -0.003053809, -0.004358958], dtype=object)"
            ]
          },
          "metadata": {},
          "execution_count": 44
        }
      ]
    },
    {
      "cell_type": "code",
      "source": [
        "!pip install pykalman"
      ],
      "metadata": {
        "colab": {
          "base_uri": "https://localhost:8080/"
        },
        "id": "3rCnVeYIt1zh",
        "outputId": "8d63ebee-268e-4c88-df2d-29854ab980bb"
      },
      "execution_count": null,
      "outputs": [
        {
          "output_type": "stream",
          "name": "stdout",
          "text": [
            "Looking in indexes: https://pypi.org/simple, https://us-python.pkg.dev/colab-wheels/public/simple/\n",
            "Collecting pykalman\n",
            "  Downloading pykalman-0.9.5.tar.gz (228 kB)\n",
            "\u001b[K     |████████████████████████████████| 228 kB 4.9 MB/s \n",
            "\u001b[?25hBuilding wheels for collected packages: pykalman\n",
            "  Building wheel for pykalman (setup.py) ... \u001b[?25l\u001b[?25hdone\n",
            "  Created wheel for pykalman: filename=pykalman-0.9.5-py3-none-any.whl size=48462 sha256=6e56b404643b600aff94ae322e2c29a1b449ad28a6dc646559138d2f8386d4ce\n",
            "  Stored in directory: /root/.cache/pip/wheels/6a/04/02/2dda6ea59c66d9e685affc8af3a31ad3a5d87b7311689efce6\n",
            "Successfully built pykalman\n",
            "Installing collected packages: pykalman\n",
            "Successfully installed pykalman-0.9.5\n"
          ]
        }
      ]
    },
    {
      "cell_type": "code",
      "source": [
        "from pykalman import KalmanFilter "
      ],
      "metadata": {
        "id": "g0gE2FTNF8Pi"
      },
      "execution_count": null,
      "outputs": []
    },
    {
      "cell_type": "code",
      "source": [
        "kf = KalmanFilter(transition_matrices = [[1, 1], [0, 1]], observation_matrices = [[0.1, 0.5], [-0.3, 0.0]])\n",
        " # 3 observations\n",
        "one=np.ones((195,1))\n",
        "measurements=np.concatenate((returnsant['Factor - Value vs Growth'].values.reshape(-1,1),one),axis=1)\n",
        "f = kf.em(measurements)\n",
        "(filtered_state_means, filtered_state_covariances) = kf.filter(measurements)\n",
        "(smoothed_state_means, smoothed_state_covariances) = kf.smooth(measurements)"
      ],
      "metadata": {
        "id": "8vdt_1tntlmU"
      },
      "execution_count": null,
      "outputs": []
    },
    {
      "cell_type": "code",
      "source": [
        "returnsant['Factor - Value vs Growth'].values.reshape(-1,1).shape"
      ],
      "metadata": {
        "colab": {
          "base_uri": "https://localhost:8080/"
        },
        "id": "-8BoZuHb2Ahz",
        "outputId": "696804b5-aa82-484e-d824-ed0aa8e5f9fc"
      },
      "execution_count": null,
      "outputs": [
        {
          "output_type": "execute_result",
          "data": {
            "text/plain": [
              "(195, 1)"
            ]
          },
          "metadata": {},
          "execution_count": 58
        }
      ]
    },
    {
      "cell_type": "code",
      "source": [
        "plt.plot(smoothed_state_means)\n",
        "#plt.plot(returnsant['Factor - Value vs Growth'].values.reshape(-1,1))"
      ],
      "metadata": {
        "colab": {
          "base_uri": "https://localhost:8080/",
          "height": 300
        },
        "id": "fElUwNhg49iY",
        "outputId": "7d9773d1-bbd4-493e-f8c9-93c79a0dd305"
      },
      "execution_count": null,
      "outputs": [
        {
          "output_type": "execute_result",
          "data": {
            "text/plain": [
              "[<matplotlib.lines.Line2D at 0x7fb17a3cd790>,\n",
              " <matplotlib.lines.Line2D at 0x7fb17a3d6d90>]"
            ]
          },
          "metadata": {},
          "execution_count": 65
        },
        {
          "output_type": "display_data",
          "data": {
            "text/plain": [
              "<Figure size 432x288 with 1 Axes>"
            ],
            "image/png": "[encoded data removed]"
          },
          "metadata": {
            "needs_background": "light"
          }
        }
      ]
    },
    {
      "cell_type": "code",
      "source": [
        "plt.plot(returnsant['Factor - Value vs Growth'].values.reshape(-1,1))"
      ],
      "metadata": {
        "colab": {
          "base_uri": "https://localhost:8080/",
          "height": 282
        },
        "id": "V6u81E6w6tnR",
        "outputId": "ba911940-2c3c-4e09-d5b2-3ef68ea03e8a"
      },
      "execution_count": null,
      "outputs": [
        {
          "output_type": "execute_result",
          "data": {
            "text/plain": [
              "[<matplotlib.lines.Line2D at 0x7fb17d542450>]"
            ]
          },
          "metadata": {},
          "execution_count": 63
        },
        {
          "output_type": "display_data",
          "data": {
            "text/plain": [
              "<Figure size 432x288 with 1 Axes>"
            ],
            "image/png": "[encoded data removed]"
          },
          "metadata": {
            "needs_background": "light"
          }
        }
      ]
    },
    {
      "cell_type": "code",
      "source": [
        "filtered_state_covariances"
      ],
      "metadata": {
        "colab": {
          "base_uri": "https://localhost:8080/"
        },
        "id": "tmPpW1PB5eCt",
        "outputId": "a0235bd5-43b5-44e7-bab3-44f05f252708"
      },
      "execution_count": null,
      "outputs": [
        {
          "output_type": "execute_result",
          "data": {
            "text/plain": [
              "array([[[ 8.18249620e-01, -1.34176518e-01],\n",
              "        [-1.34176518e-01,  4.70592673e-01]],\n",
              "\n",
              "       [[ 2.81770951e+03,  1.54797635e+03],\n",
              "        [ 1.54797635e+03,  1.06517565e+04]],\n",
              "\n",
              "       [[ 3.26960427e+03,  2.15119209e+03],\n",
              "        [ 2.15119209e+03,  1.31226255e+04]],\n",
              "\n",
              "       [[ 3.31796204e+03,  2.21909599e+03],\n",
              "        [ 2.21909599e+03,  1.34001490e+04]],\n",
              "\n",
              "       [[ 3.32269293e+03,  2.22591085e+03],\n",
              "        [ 2.22591085e+03,  1.34290349e+04]],\n",
              "\n",
              "       [[ 3.32317034e+03,  2.22663390e+03],\n",
              "        [ 2.22663390e+03,  1.34320382e+04]],\n",
              "\n",
              "       [[ 3.32322006e+03,  2.22670955e+03],\n",
              "        [ 2.22670955e+03,  1.34323382e+04]],\n",
              "\n",
              "       [[ 3.32322511e+03,  2.22671691e+03],\n",
              "        [ 2.22671691e+03,  1.34323672e+04]],\n",
              "\n",
              "       [[ 3.32322560e+03,  2.22671761e+03],\n",
              "        [ 2.22671761e+03,  1.34323701e+04]],\n",
              "\n",
              "       [[ 3.32322565e+03,  2.22671768e+03],\n",
              "        [ 2.22671768e+03,  1.34323704e+04]],\n",
              "\n",
              "       [[ 3.32322566e+03,  2.22671768e+03],\n",
              "        [ 2.22671768e+03,  1.34323704e+04]],\n",
              "\n",
              "       [[ 3.32322566e+03,  2.22671769e+03],\n",
              "        [ 2.22671769e+03,  1.34323704e+04]],\n",
              "\n",
              "       [[ 3.32322566e+03,  2.22671769e+03],\n",
              "        [ 2.22671769e+03,  1.34323704e+04]],\n",
              "\n",
              "       [[ 3.32322566e+03,  2.22671769e+03],\n",
              "        [ 2.22671769e+03,  1.34323704e+04]],\n",
              "\n",
              "       [[ 3.32322566e+03,  2.22671769e+03],\n",
              "        [ 2.22671769e+03,  1.34323704e+04]],\n",
              "\n",
              "       [[ 3.32322566e+03,  2.22671769e+03],\n",
              "        [ 2.22671769e+03,  1.34323704e+04]],\n",
              "\n",
              "       [[ 3.32322566e+03,  2.22671769e+03],\n",
              "        [ 2.22671769e+03,  1.34323704e+04]],\n",
              "\n",
              "       [[ 3.32322566e+03,  2.22671769e+03],\n",
              "        [ 2.22671769e+03,  1.34323704e+04]],\n",
              "\n",
              "       [[ 3.32322566e+03,  2.22671769e+03],\n",
              "        [ 2.22671769e+03,  1.34323704e+04]],\n",
              "\n",
              "       [[ 3.32322566e+03,  2.22671769e+03],\n",
              "        [ 2.22671769e+03,  1.34323704e+04]],\n",
              "\n",
              "       [[ 3.32322566e+03,  2.22671769e+03],\n",
              "        [ 2.22671769e+03,  1.34323704e+04]],\n",
              "\n",
              "       [[ 3.32322566e+03,  2.22671769e+03],\n",
              "        [ 2.22671769e+03,  1.34323704e+04]],\n",
              "\n",
              "       [[ 3.32322566e+03,  2.22671769e+03],\n",
              "        [ 2.22671769e+03,  1.34323704e+04]],\n",
              "\n",
              "       [[ 3.32322566e+03,  2.22671769e+03],\n",
              "        [ 2.22671769e+03,  1.34323704e+04]],\n",
              "\n",
              "       [[ 3.32322566e+03,  2.22671769e+03],\n",
              "        [ 2.22671769e+03,  1.34323704e+04]],\n",
              "\n",
              "       [[ 3.32322566e+03,  2.22671769e+03],\n",
              "        [ 2.22671769e+03,  1.34323704e+04]],\n",
              "\n",
              "       [[ 3.32322566e+03,  2.22671769e+03],\n",
              "        [ 2.22671769e+03,  1.34323704e+04]],\n",
              "\n",
              "       [[ 3.32322566e+03,  2.22671769e+03],\n",
              "        [ 2.22671769e+03,  1.34323704e+04]],\n",
              "\n",
              "       [[ 3.32322566e+03,  2.22671769e+03],\n",
              "        [ 2.22671769e+03,  1.34323704e+04]],\n",
              "\n",
              "       [[ 3.32322566e+03,  2.22671769e+03],\n",
              "        [ 2.22671769e+03,  1.34323704e+04]],\n",
              "\n",
              "       [[ 3.32322566e+03,  2.22671769e+03],\n",
              "        [ 2.22671769e+03,  1.34323704e+04]],\n",
              "\n",
              "       [[ 3.32322566e+03,  2.22671769e+03],\n",
              "        [ 2.22671769e+03,  1.34323704e+04]],\n",
              "\n",
              "       [[ 3.32322566e+03,  2.22671769e+03],\n",
              "        [ 2.22671769e+03,  1.34323704e+04]],\n",
              "\n",
              "       [[ 3.32322566e+03,  2.22671769e+03],\n",
              "        [ 2.22671769e+03,  1.34323704e+04]],\n",
              "\n",
              "       [[ 3.32322566e+03,  2.22671769e+03],\n",
              "        [ 2.22671769e+03,  1.34323704e+04]],\n",
              "\n",
              "       [[ 3.32322566e+03,  2.22671769e+03],\n",
              "        [ 2.22671769e+03,  1.34323704e+04]],\n",
              "\n",
              "       [[ 3.32322566e+03,  2.22671769e+03],\n",
              "        [ 2.22671769e+03,  1.34323704e+04]],\n",
              "\n",
              "       [[ 3.32322566e+03,  2.22671769e+03],\n",
              "        [ 2.22671769e+03,  1.34323704e+04]],\n",
              "\n",
              "       [[ 3.32322566e+03,  2.22671769e+03],\n",
              "        [ 2.22671769e+03,  1.34323704e+04]],\n",
              "\n",
              "       [[ 3.32322566e+03,  2.22671769e+03],\n",
              "        [ 2.22671769e+03,  1.34323704e+04]],\n",
              "\n",
              "       [[ 3.32322566e+03,  2.22671769e+03],\n",
              "        [ 2.22671769e+03,  1.34323704e+04]],\n",
              "\n",
              "       [[ 3.32322566e+03,  2.22671769e+03],\n",
              "        [ 2.22671769e+03,  1.34323704e+04]],\n",
              "\n",
              "       [[ 3.32322566e+03,  2.22671769e+03],\n",
              "        [ 2.22671769e+03,  1.34323704e+04]],\n",
              "\n",
              "       [[ 3.32322566e+03,  2.22671769e+03],\n",
              "        [ 2.22671769e+03,  1.34323704e+04]],\n",
              "\n",
              "       [[ 3.32322566e+03,  2.22671769e+03],\n",
              "        [ 2.22671769e+03,  1.34323704e+04]],\n",
              "\n",
              "       [[ 3.32322566e+03,  2.22671769e+03],\n",
              "        [ 2.22671769e+03,  1.34323704e+04]],\n",
              "\n",
              "       [[ 3.32322566e+03,  2.22671769e+03],\n",
              "        [ 2.22671769e+03,  1.34323704e+04]],\n",
              "\n",
              "       [[ 3.32322566e+03,  2.22671769e+03],\n",
              "        [ 2.22671769e+03,  1.34323704e+04]],\n",
              "\n",
              "       [[ 3.32322566e+03,  2.22671769e+03],\n",
              "        [ 2.22671769e+03,  1.34323704e+04]],\n",
              "\n",
              "       [[ 3.32322566e+03,  2.22671769e+03],\n",
              "        [ 2.22671769e+03,  1.34323704e+04]],\n",
              "\n",
              "       [[ 3.32322566e+03,  2.22671769e+03],\n",
              "        [ 2.22671769e+03,  1.34323704e+04]],\n",
              "\n",
              "       [[ 3.32322566e+03,  2.22671769e+03],\n",
              "        [ 2.22671769e+03,  1.34323704e+04]],\n",
              "\n",
              "       [[ 3.32322566e+03,  2.22671769e+03],\n",
              "        [ 2.22671769e+03,  1.34323704e+04]],\n",
              "\n",
              "       [[ 3.32322566e+03,  2.22671769e+03],\n",
              "        [ 2.22671769e+03,  1.34323704e+04]],\n",
              "\n",
              "       [[ 3.32322566e+03,  2.22671769e+03],\n",
              "        [ 2.22671769e+03,  1.34323704e+04]],\n",
              "\n",
              "       [[ 3.32322566e+03,  2.22671769e+03],\n",
              "        [ 2.22671769e+03,  1.34323704e+04]],\n",
              "\n",
              "       [[ 3.32322566e+03,  2.22671769e+03],\n",
              "        [ 2.22671769e+03,  1.34323704e+04]],\n",
              "\n",
              "       [[ 3.32322566e+03,  2.22671769e+03],\n",
              "        [ 2.22671769e+03,  1.34323704e+04]],\n",
              "\n",
              "       [[ 3.32322566e+03,  2.22671769e+03],\n",
              "        [ 2.22671769e+03,  1.34323704e+04]],\n",
              "\n",
              "       [[ 3.32322566e+03,  2.22671769e+03],\n",
              "        [ 2.22671769e+03,  1.34323704e+04]],\n",
              "\n",
              "       [[ 3.32322566e+03,  2.22671769e+03],\n",
              "        [ 2.22671769e+03,  1.34323704e+04]],\n",
              "\n",
              "       [[ 3.32322566e+03,  2.22671769e+03],\n",
              "        [ 2.22671769e+03,  1.34323704e+04]],\n",
              "\n",
              "       [[ 3.32322566e+03,  2.22671769e+03],\n",
              "        [ 2.22671769e+03,  1.34323704e+04]],\n",
              "\n",
              "       [[ 3.32322566e+03,  2.22671769e+03],\n",
              "        [ 2.22671769e+03,  1.34323704e+04]],\n",
              "\n",
              "       [[ 3.32322566e+03,  2.22671769e+03],\n",
              "        [ 2.22671769e+03,  1.34323704e+04]],\n",
              "\n",
              "       [[ 3.32322566e+03,  2.22671769e+03],\n",
              "        [ 2.22671769e+03,  1.34323704e+04]],\n",
              "\n",
              "       [[ 3.32322566e+03,  2.22671769e+03],\n",
              "        [ 2.22671769e+03,  1.34323704e+04]],\n",
              "\n",
              "       [[ 3.32322566e+03,  2.22671769e+03],\n",
              "        [ 2.22671769e+03,  1.34323704e+04]],\n",
              "\n",
              "       [[ 3.32322566e+03,  2.22671769e+03],\n",
              "        [ 2.22671769e+03,  1.34323704e+04]],\n",
              "\n",
              "       [[ 3.32322566e+03,  2.22671769e+03],\n",
              "        [ 2.22671769e+03,  1.34323704e+04]],\n",
              "\n",
              "       [[ 3.32322566e+03,  2.22671769e+03],\n",
              "        [ 2.22671769e+03,  1.34323704e+04]],\n",
              "\n",
              "       [[ 3.32322566e+03,  2.22671769e+03],\n",
              "        [ 2.22671769e+03,  1.34323704e+04]],\n",
              "\n",
              "       [[ 3.32322566e+03,  2.22671769e+03],\n",
              "        [ 2.22671769e+03,  1.34323704e+04]],\n",
              "\n",
              "       [[ 3.32322566e+03,  2.22671769e+03],\n",
              "        [ 2.22671769e+03,  1.34323704e+04]],\n",
              "\n",
              "       [[ 3.32322566e+03,  2.22671769e+03],\n",
              "        [ 2.22671769e+03,  1.34323704e+04]],\n",
              "\n",
              "       [[ 3.32322566e+03,  2.22671769e+03],\n",
              "        [ 2.22671769e+03,  1.34323704e+04]],\n",
              "\n",
              "       [[ 3.32322566e+03,  2.22671769e+03],\n",
              "        [ 2.22671769e+03,  1.34323704e+04]],\n",
              "\n",
              "       [[ 3.32322566e+03,  2.22671769e+03],\n",
              "        [ 2.22671769e+03,  1.34323704e+04]],\n",
              "\n",
              "       [[ 3.32322566e+03,  2.22671769e+03],\n",
              "        [ 2.22671769e+03,  1.34323704e+04]],\n",
              "\n",
              "       [[ 3.32322566e+03,  2.22671769e+03],\n",
              "        [ 2.22671769e+03,  1.34323704e+04]],\n",
              "\n",
              "       [[ 3.32322566e+03,  2.22671769e+03],\n",
              "        [ 2.22671769e+03,  1.34323704e+04]],\n",
              "\n",
              "       [[ 3.32322566e+03,  2.22671769e+03],\n",
              "        [ 2.22671769e+03,  1.34323704e+04]],\n",
              "\n",
              "       [[ 3.32322566e+03,  2.22671769e+03],\n",
              "        [ 2.22671769e+03,  1.34323704e+04]],\n",
              "\n",
              "       [[ 3.32322566e+03,  2.22671769e+03],\n",
              "        [ 2.22671769e+03,  1.34323704e+04]],\n",
              "\n",
              "       [[ 3.32322566e+03,  2.22671769e+03],\n",
              "        [ 2.22671769e+03,  1.34323704e+04]],\n",
              "\n",
              "       [[ 3.32322566e+03,  2.22671769e+03],\n",
              "        [ 2.22671769e+03,  1.34323704e+04]],\n",
              "\n",
              "       [[ 3.32322566e+03,  2.22671769e+03],\n",
              "        [ 2.22671769e+03,  1.34323704e+04]],\n",
              "\n",
              "       [[ 3.32322566e+03,  2.22671769e+03],\n",
              "        [ 2.22671769e+03,  1.34323704e+04]],\n",
              "\n",
              "       [[ 3.32322566e+03,  2.22671769e+03],\n",
              "        [ 2.22671769e+03,  1.34323704e+04]],\n",
              "\n",
              "       [[ 3.32322566e+03,  2.22671769e+03],\n",
              "        [ 2.22671769e+03,  1.34323704e+04]],\n",
              "\n",
              "       [[ 3.32322566e+03,  2.22671769e+03],\n",
              "        [ 2.22671769e+03,  1.34323704e+04]],\n",
              "\n",
              "       [[ 3.32322566e+03,  2.22671769e+03],\n",
              "        [ 2.22671769e+03,  1.34323704e+04]],\n",
              "\n",
              "       [[ 3.32322566e+03,  2.22671769e+03],\n",
              "        [ 2.22671769e+03,  1.34323704e+04]],\n",
              "\n",
              "       [[ 3.32322566e+03,  2.22671769e+03],\n",
              "        [ 2.22671769e+03,  1.34323704e+04]],\n",
              "\n",
              "       [[ 3.32322566e+03,  2.22671769e+03],\n",
              "        [ 2.22671769e+03,  1.34323704e+04]],\n",
              "\n",
              "       [[ 3.32322566e+03,  2.22671769e+03],\n",
              "        [ 2.22671769e+03,  1.34323704e+04]],\n",
              "\n",
              "       [[ 3.32322566e+03,  2.22671769e+03],\n",
              "        [ 2.22671769e+03,  1.34323704e+04]],\n",
              "\n",
              "       [[ 3.32322566e+03,  2.22671769e+03],\n",
              "        [ 2.22671769e+03,  1.34323704e+04]],\n",
              "\n",
              "       [[ 3.32322566e+03,  2.22671769e+03],\n",
              "        [ 2.22671769e+03,  1.34323704e+04]],\n",
              "\n",
              "       [[ 3.32322566e+03,  2.22671769e+03],\n",
              "        [ 2.22671769e+03,  1.34323704e+04]],\n",
              "\n",
              "       [[ 3.32322566e+03,  2.22671769e+03],\n",
              "        [ 2.22671769e+03,  1.34323704e+04]],\n",
              "\n",
              "       [[ 3.32322566e+03,  2.22671769e+03],\n",
              "        [ 2.22671769e+03,  1.34323704e+04]],\n",
              "\n",
              "       [[ 3.32322566e+03,  2.22671769e+03],\n",
              "        [ 2.22671769e+03,  1.34323704e+04]],\n",
              "\n",
              "       [[ 3.32322566e+03,  2.22671769e+03],\n",
              "        [ 2.22671769e+03,  1.34323704e+04]],\n",
              "\n",
              "       [[ 3.32322566e+03,  2.22671769e+03],\n",
              "        [ 2.22671769e+03,  1.34323704e+04]],\n",
              "\n",
              "       [[ 3.32322566e+03,  2.22671769e+03],\n",
              "        [ 2.22671769e+03,  1.34323704e+04]],\n",
              "\n",
              "       [[ 3.32322566e+03,  2.22671769e+03],\n",
              "        [ 2.22671769e+03,  1.34323704e+04]],\n",
              "\n",
              "       [[ 3.32322566e+03,  2.22671769e+03],\n",
              "        [ 2.22671769e+03,  1.34323704e+04]],\n",
              "\n",
              "       [[ 3.32322566e+03,  2.22671769e+03],\n",
              "        [ 2.22671769e+03,  1.34323704e+04]],\n",
              "\n",
              "       [[ 3.32322566e+03,  2.22671769e+03],\n",
              "        [ 2.22671769e+03,  1.34323704e+04]],\n",
              "\n",
              "       [[ 3.32322566e+03,  2.22671769e+03],\n",
              "        [ 2.22671769e+03,  1.34323704e+04]],\n",
              "\n",
              "       [[ 3.32322566e+03,  2.22671769e+03],\n",
              "        [ 2.22671769e+03,  1.34323704e+04]],\n",
              "\n",
              "       [[ 3.32322566e+03,  2.22671769e+03],\n",
              "        [ 2.22671769e+03,  1.34323704e+04]],\n",
              "\n",
              "       [[ 3.32322566e+03,  2.22671769e+03],\n",
              "        [ 2.22671769e+03,  1.34323704e+04]],\n",
              "\n",
              "       [[ 3.32322566e+03,  2.22671769e+03],\n",
              "        [ 2.22671769e+03,  1.34323704e+04]],\n",
              "\n",
              "       [[ 3.32322566e+03,  2.22671769e+03],\n",
              "        [ 2.22671769e+03,  1.34323704e+04]],\n",
              "\n",
              "       [[ 3.32322566e+03,  2.22671769e+03],\n",
              "        [ 2.22671769e+03,  1.34323704e+04]],\n",
              "\n",
              "       [[ 3.32322566e+03,  2.22671769e+03],\n",
              "        [ 2.22671769e+03,  1.34323704e+04]],\n",
              "\n",
              "       [[ 3.32322566e+03,  2.22671769e+03],\n",
              "        [ 2.22671769e+03,  1.34323704e+04]],\n",
              "\n",
              "       [[ 3.32322566e+03,  2.22671769e+03],\n",
              "        [ 2.22671769e+03,  1.34323704e+04]],\n",
              "\n",
              "       [[ 3.32322566e+03,  2.22671769e+03],\n",
              "        [ 2.22671769e+03,  1.34323704e+04]],\n",
              "\n",
              "       [[ 3.32322566e+03,  2.22671769e+03],\n",
              "        [ 2.22671769e+03,  1.34323704e+04]],\n",
              "\n",
              "       [[ 3.32322566e+03,  2.22671769e+03],\n",
              "        [ 2.22671769e+03,  1.34323704e+04]],\n",
              "\n",
              "       [[ 3.32322566e+03,  2.22671769e+03],\n",
              "        [ 2.22671769e+03,  1.34323704e+04]],\n",
              "\n",
              "       [[ 3.32322566e+03,  2.22671769e+03],\n",
              "        [ 2.22671769e+03,  1.34323704e+04]],\n",
              "\n",
              "       [[ 3.32322566e+03,  2.22671769e+03],\n",
              "        [ 2.22671769e+03,  1.34323704e+04]],\n",
              "\n",
              "       [[ 3.32322566e+03,  2.22671769e+03],\n",
              "        [ 2.22671769e+03,  1.34323704e+04]],\n",
              "\n",
              "       [[ 3.32322566e+03,  2.22671769e+03],\n",
              "        [ 2.22671769e+03,  1.34323704e+04]],\n",
              "\n",
              "       [[ 3.32322566e+03,  2.22671769e+03],\n",
              "        [ 2.22671769e+03,  1.34323704e+04]],\n",
              "\n",
              "       [[ 3.32322566e+03,  2.22671769e+03],\n",
              "        [ 2.22671769e+03,  1.34323704e+04]],\n",
              "\n",
              "       [[ 3.32322566e+03,  2.22671769e+03],\n",
              "        [ 2.22671769e+03,  1.34323704e+04]],\n",
              "\n",
              "       [[ 3.32322566e+03,  2.22671769e+03],\n",
              "        [ 2.22671769e+03,  1.34323704e+04]],\n",
              "\n",
              "       [[ 3.32322566e+03,  2.22671769e+03],\n",
              "        [ 2.22671769e+03,  1.34323704e+04]],\n",
              "\n",
              "       [[ 3.32322566e+03,  2.22671769e+03],\n",
              "        [ 2.22671769e+03,  1.34323704e+04]],\n",
              "\n",
              "       [[ 3.32322566e+03,  2.22671769e+03],\n",
              "        [ 2.22671769e+03,  1.34323704e+04]],\n",
              "\n",
              "       [[ 3.32322566e+03,  2.22671769e+03],\n",
              "        [ 2.22671769e+03,  1.34323704e+04]],\n",
              "\n",
              "       [[ 3.32322566e+03,  2.22671769e+03],\n",
              "        [ 2.22671769e+03,  1.34323704e+04]],\n",
              "\n",
              "       [[ 3.32322566e+03,  2.22671769e+03],\n",
              "        [ 2.22671769e+03,  1.34323704e+04]],\n",
              "\n",
              "       [[ 3.32322566e+03,  2.22671769e+03],\n",
              "        [ 2.22671769e+03,  1.34323704e+04]],\n",
              "\n",
              "       [[ 3.32322566e+03,  2.22671769e+03],\n",
              "        [ 2.22671769e+03,  1.34323704e+04]],\n",
              "\n",
              "       [[ 3.32322566e+03,  2.22671769e+03],\n",
              "        [ 2.22671769e+03,  1.34323704e+04]],\n",
              "\n",
              "       [[ 3.32322566e+03,  2.22671769e+03],\n",
              "        [ 2.22671769e+03,  1.34323704e+04]],\n",
              "\n",
              "       [[ 3.32322566e+03,  2.22671769e+03],\n",
              "        [ 2.22671769e+03,  1.34323704e+04]],\n",
              "\n",
              "       [[ 3.32322566e+03,  2.22671769e+03],\n",
              "        [ 2.22671769e+03,  1.34323704e+04]],\n",
              "\n",
              "       [[ 3.32322566e+03,  2.22671769e+03],\n",
              "        [ 2.22671769e+03,  1.34323704e+04]],\n",
              "\n",
              "       [[ 3.32322566e+03,  2.22671769e+03],\n",
              "        [ 2.22671769e+03,  1.34323704e+04]],\n",
              "\n",
              "       [[ 3.32322566e+03,  2.22671769e+03],\n",
              "        [ 2.22671769e+03,  1.34323704e+04]],\n",
              "\n",
              "       [[ 3.32322566e+03,  2.22671769e+03],\n",
              "        [ 2.22671769e+03,  1.34323704e+04]],\n",
              "\n",
              "       [[ 3.32322566e+03,  2.22671769e+03],\n",
              "        [ 2.22671769e+03,  1.34323704e+04]],\n",
              "\n",
              "       [[ 3.32322566e+03,  2.22671769e+03],\n",
              "        [ 2.22671769e+03,  1.34323704e+04]],\n",
              "\n",
              "       [[ 3.32322566e+03,  2.22671769e+03],\n",
              "        [ 2.22671769e+03,  1.34323704e+04]],\n",
              "\n",
              "       [[ 3.32322566e+03,  2.22671769e+03],\n",
              "        [ 2.22671769e+03,  1.34323704e+04]],\n",
              "\n",
              "       [[ 3.32322566e+03,  2.22671769e+03],\n",
              "        [ 2.22671769e+03,  1.34323704e+04]],\n",
              "\n",
              "       [[ 3.32322566e+03,  2.22671769e+03],\n",
              "        [ 2.22671769e+03,  1.34323704e+04]],\n",
              "\n",
              "       [[ 3.32322566e+03,  2.22671769e+03],\n",
              "        [ 2.22671769e+03,  1.34323704e+04]],\n",
              "\n",
              "       [[ 3.32322566e+03,  2.22671769e+03],\n",
              "        [ 2.22671769e+03,  1.34323704e+04]],\n",
              "\n",
              "       [[ 3.32322566e+03,  2.22671769e+03],\n",
              "        [ 2.22671769e+03,  1.34323704e+04]],\n",
              "\n",
              "       [[ 3.32322566e+03,  2.22671769e+03],\n",
              "        [ 2.22671769e+03,  1.34323704e+04]],\n",
              "\n",
              "       [[ 3.32322566e+03,  2.22671769e+03],\n",
              "        [ 2.22671769e+03,  1.34323704e+04]],\n",
              "\n",
              "       [[ 3.32322566e+03,  2.22671769e+03],\n",
              "        [ 2.22671769e+03,  1.34323704e+04]],\n",
              "\n",
              "       [[ 3.32322566e+03,  2.22671769e+03],\n",
              "        [ 2.22671769e+03,  1.34323704e+04]],\n",
              "\n",
              "       [[ 3.32322566e+03,  2.22671769e+03],\n",
              "        [ 2.22671769e+03,  1.34323704e+04]],\n",
              "\n",
              "       [[ 3.32322566e+03,  2.22671769e+03],\n",
              "        [ 2.22671769e+03,  1.34323704e+04]],\n",
              "\n",
              "       [[ 3.32322566e+03,  2.22671769e+03],\n",
              "        [ 2.22671769e+03,  1.34323704e+04]],\n",
              "\n",
              "       [[ 3.32322566e+03,  2.22671769e+03],\n",
              "        [ 2.22671769e+03,  1.34323704e+04]],\n",
              "\n",
              "       [[ 3.32322566e+03,  2.22671769e+03],\n",
              "        [ 2.22671769e+03,  1.34323704e+04]],\n",
              "\n",
              "       [[ 3.32322566e+03,  2.22671769e+03],\n",
              "        [ 2.22671769e+03,  1.34323704e+04]],\n",
              "\n",
              "       [[ 3.32322566e+03,  2.22671769e+03],\n",
              "        [ 2.22671769e+03,  1.34323704e+04]],\n",
              "\n",
              "       [[ 3.32322566e+03,  2.22671769e+03],\n",
              "        [ 2.22671769e+03,  1.34323704e+04]],\n",
              "\n",
              "       [[ 3.32322566e+03,  2.22671769e+03],\n",
              "        [ 2.22671769e+03,  1.34323704e+04]],\n",
              "\n",
              "       [[ 3.32322566e+03,  2.22671769e+03],\n",
              "        [ 2.22671769e+03,  1.34323704e+04]],\n",
              "\n",
              "       [[ 3.32322566e+03,  2.22671769e+03],\n",
              "        [ 2.22671769e+03,  1.34323704e+04]],\n",
              "\n",
              "       [[ 3.32322566e+03,  2.22671769e+03],\n",
              "        [ 2.22671769e+03,  1.34323704e+04]],\n",
              "\n",
              "       [[ 3.32322566e+03,  2.22671769e+03],\n",
              "        [ 2.22671769e+03,  1.34323704e+04]],\n",
              "\n",
              "       [[ 3.32322566e+03,  2.22671769e+03],\n",
              "        [ 2.22671769e+03,  1.34323704e+04]],\n",
              "\n",
              "       [[ 3.32322566e+03,  2.22671769e+03],\n",
              "        [ 2.22671769e+03,  1.34323704e+04]],\n",
              "\n",
              "       [[ 3.32322566e+03,  2.22671769e+03],\n",
              "        [ 2.22671769e+03,  1.34323704e+04]],\n",
              "\n",
              "       [[ 3.32322566e+03,  2.22671769e+03],\n",
              "        [ 2.22671769e+03,  1.34323704e+04]],\n",
              "\n",
              "       [[ 3.32322566e+03,  2.22671769e+03],\n",
              "        [ 2.22671769e+03,  1.34323704e+04]],\n",
              "\n",
              "       [[ 3.32322566e+03,  2.22671769e+03],\n",
              "        [ 2.22671769e+03,  1.34323704e+04]],\n",
              "\n",
              "       [[ 3.32322566e+03,  2.22671769e+03],\n",
              "        [ 2.22671769e+03,  1.34323704e+04]],\n",
              "\n",
              "       [[ 3.32322566e+03,  2.22671769e+03],\n",
              "        [ 2.22671769e+03,  1.34323704e+04]],\n",
              "\n",
              "       [[ 3.32322566e+03,  2.22671769e+03],\n",
              "        [ 2.22671769e+03,  1.34323704e+04]],\n",
              "\n",
              "       [[ 3.32322566e+03,  2.22671769e+03],\n",
              "        [ 2.22671769e+03,  1.34323704e+04]],\n",
              "\n",
              "       [[ 3.32322566e+03,  2.22671769e+03],\n",
              "        [ 2.22671769e+03,  1.34323704e+04]],\n",
              "\n",
              "       [[ 3.32322566e+03,  2.22671769e+03],\n",
              "        [ 2.22671769e+03,  1.34323704e+04]],\n",
              "\n",
              "       [[ 3.32322566e+03,  2.22671769e+03],\n",
              "        [ 2.22671769e+03,  1.34323704e+04]],\n",
              "\n",
              "       [[ 3.32322566e+03,  2.22671769e+03],\n",
              "        [ 2.22671769e+03,  1.34323704e+04]],\n",
              "\n",
              "       [[ 3.32322566e+03,  2.22671769e+03],\n",
              "        [ 2.22671769e+03,  1.34323704e+04]],\n",
              "\n",
              "       [[ 3.32322566e+03,  2.22671769e+03],\n",
              "        [ 2.22671769e+03,  1.34323704e+04]],\n",
              "\n",
              "       [[ 3.32322566e+03,  2.22671769e+03],\n",
              "        [ 2.22671769e+03,  1.34323704e+04]],\n",
              "\n",
              "       [[ 3.32322566e+03,  2.22671769e+03],\n",
              "        [ 2.22671769e+03,  1.34323704e+04]],\n",
              "\n",
              "       [[ 3.32322566e+03,  2.22671769e+03],\n",
              "        [ 2.22671769e+03,  1.34323704e+04]],\n",
              "\n",
              "       [[ 3.32322566e+03,  2.22671769e+03],\n",
              "        [ 2.22671769e+03,  1.34323704e+04]],\n",
              "\n",
              "       [[ 3.32322566e+03,  2.22671769e+03],\n",
              "        [ 2.22671769e+03,  1.34323704e+04]]])"
            ]
          },
          "metadata": {},
          "execution_count": 62
        }
      ]
    },
    {
      "cell_type": "code",
      "source": [],
      "metadata": {
        "id": "6d4QOSJd5nxP"
      },
      "execution_count": null,
      "outputs": []
    }
  ]
}